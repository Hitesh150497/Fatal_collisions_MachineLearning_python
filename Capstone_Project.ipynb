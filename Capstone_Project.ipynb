{
 "cells": [
  {
   "cell_type": "code",
   "execution_count": 68,
   "metadata": {},
   "outputs": [],
   "source": [
    "%matplotlib inline\n",
    "\n",
    "import seaborn as sns\n",
    "import statsmodels.formula.api as smf\n",
    "from sklearn.linear_model import LinearRegression\n",
    "from sklearn import metrics\n",
    "from sklearn.model_selection  import train_test_split\n",
    "import numpy as np\n",
    "from scipy.stats import norm \n",
    "from scipy import stats, integrate\n",
    "import matplotlib.pyplot as plt\n",
    "\n",
    "\n",
    "from sklearn.decomposition import PCA\n",
    "from sklearn.preprocessing import StandardScaler\n",
    "from sklearn import metrics\n",
    "\n",
    "import pandas as pd\n",
    "from sklearn.linear_model import LogisticRegression, LogisticRegressionCV\n",
    "from sklearn.linear_model import LinearRegression, Lasso, Ridge, LassoCV, BayesianRidge\n",
    "import statsmodels.api as sm\n",
    "from mord import LogisticIT\n",
    "import matplotlib.pylab as plt\n",
    "import seaborn as sns\n",
    "from dmba import classificationSummary, gainsChart, liftChart\n",
    "from dmba.metric import AIC_score\n",
    "from math import log\n",
    "from dmba import regressionSummary, exhaustive_search\n",
    "from dmba import backward_elimination, forward_selection, stepwise_selection\n",
    "from dmba import adjusted_r2_score, AIC_score, BIC_score\n",
    "from sklearn.tree import DecisionTreeClassifier, DecisionTreeRegressor\n",
    "from sklearn.ensemble import RandomForestClassifier, GradientBoostingClassifier\n",
    "from sklearn.metrics import accuracy_score, confusion_matrix, recall_score, roc_auc_score, precision_score\n",
    "from sklearn.metrics import classification_report, precision_recall_fscore_support\n",
    "from sklearn.preprocessing import binarize\n",
    "import statsmodels.formula.api as sm\n",
    "from dmba import regressionSummary, exhaustive_search\n",
    "import statsmodels.api as sm\n",
    "from mord import LogisticIT"
   ]
  },
  {
   "cell_type": "code",
   "execution_count": 69,
   "metadata": {},
   "outputs": [],
   "source": [
    "df = pd.read_csv('Dataset.csv')"
   ]
  },
  {
   "cell_type": "code",
   "execution_count": 70,
   "metadata": {},
   "outputs": [
    {
     "name": "stdout",
     "output_type": "stream",
     "text": [
      "ACCNUM            0.000000\n",
      "YEAR              0.000000\n",
      "MONTH             0.000000\n",
      "DAY               0.000000\n",
      "HOUR              0.000000\n",
      "MINUTE            0.000000\n",
      "WEEKDAY           0.000000\n",
      "LATITUDE          0.000000\n",
      "LONGITUDE         0.000000\n",
      "WardName         14.279500\n",
      "WARDNUMBER       14.279500\n",
      "Neighbourhood     0.000000\n",
      "Hood_ID           0.000000\n",
      "DIVISION          0.000000\n",
      "DISTRICT          0.080780\n",
      "STREET1           0.000000\n",
      "STREET2           8.668365\n",
      "OFFSET           85.161250\n",
      "ROAD_CLASS        2.286709\n",
      "LOCCOORD          0.807805\n",
      "ACCLOC           33.865656\n",
      "TRAFFCTL          0.180203\n",
      "VISIBILITY        0.136705\n",
      "LIGHT             0.000000\n",
      "RDSFCOND          0.167775\n",
      "ACCLASS           0.000000\n",
      "IMPACTYPE         0.024856\n",
      "INVTYPE           0.062139\n",
      "INVAGE            0.000000\n",
      "INJURY            9.998136\n",
      "FATAL_NO         95.818058\n",
      "INITDIR          30.050332\n",
      "VEHTYPE          15.702479\n",
      "MANOEUVER        43.198906\n",
      "DRIVACT          50.090101\n",
      "DRIVCOND         50.090101\n",
      "PEDTYPE          84.030324\n",
      "PEDACT           84.067607\n",
      "PEDCOND          83.321941\n",
      "CYCLISTYPE       96.016902\n",
      "CYCACT           95.861555\n",
      "CYCCOND          95.867769\n",
      "PEDESTRIAN        0.000000\n",
      "CYCLIST           0.000000\n",
      "AUTOMOBILE        0.000000\n",
      "MOTORCYCLE        0.000000\n",
      "TRUCK             0.000000\n",
      "TRSN_CITY_VEH     0.000000\n",
      "EMERG_VEH         0.000000\n",
      "PASSENGER         0.000000\n",
      "SPEEDING          0.000000\n",
      "AG_DRIV           0.000000\n",
      "REDLIGHT          0.000000\n",
      "ALCOHOL           0.000000\n",
      "DISABILITY        0.000000\n",
      "FATAL             0.000000\n",
      "dtype: float64\n"
     ]
    }
   ],
   "source": [
    "# Calculating frequency distribution of each variable in terms of missing value.\n",
    "# We will drop the variables which will have value more than 80%, it means more than 80% is missing in variable.\n",
    "# So, better to remove them\n",
    "df = df.replace(' ', np.nan, regex=False)\n",
    "\n",
    "print(df.isna().sum()/len(df)*100)"
   ]
  },
  {
   "cell_type": "code",
   "execution_count": 71,
   "metadata": {},
   "outputs": [
    {
     "data": {
      "text/plain": [
       "Index(['ACCNUM', 'YEAR', 'MONTH', 'DAY', 'HOUR', 'MINUTE', 'WEEKDAY',\n",
       "       'LATITUDE', 'LONGITUDE', 'WardName', 'WARDNUMBER', 'Neighbourhood',\n",
       "       'Hood_ID', 'DIVISION', 'DISTRICT', 'STREET1', 'STREET2', 'ROAD_CLASS',\n",
       "       'LOCCOORD', 'ACCLOC', 'TRAFFCTL', 'VISIBILITY', 'LIGHT', 'RDSFCOND',\n",
       "       'ACCLASS', 'IMPACTYPE', 'INVTYPE', 'INVAGE', 'INJURY', 'INITDIR',\n",
       "       'VEHTYPE', 'MANOEUVER', 'DRIVACT', 'DRIVCOND', 'PEDESTRIAN', 'CYCLIST',\n",
       "       'AUTOMOBILE', 'MOTORCYCLE', 'TRUCK', 'TRSN_CITY_VEH', 'EMERG_VEH',\n",
       "       'PASSENGER', 'SPEEDING', 'AG_DRIV', 'REDLIGHT', 'ALCOHOL', 'DISABILITY',\n",
       "       'FATAL'],\n",
       "      dtype='object')"
      ]
     },
     "execution_count": 71,
     "metadata": {},
     "output_type": "execute_result"
    }
   ],
   "source": [
    "#Dropping columns where missing values are greater than 80%\n",
    "df = df.drop([\"PEDTYPE\", \"PEDACT\", \"PEDCOND\", \"CYCLISTYPE\", \"CYCACT\", \"CYCCOND\", \"OFFSET\", \"FATAL_NO\"], axis=1)\n",
    "# printing the present variables of dataset\n",
    "df.columns"
   ]
  },
  {
   "cell_type": "code",
   "execution_count": 72,
   "metadata": {},
   "outputs": [
    {
     "data": {
      "text/plain": [
       "ACCNUM             int64\n",
       "YEAR               int64\n",
       "MONTH              int64\n",
       "DAY                int64\n",
       "HOUR               int64\n",
       "MINUTE             int64\n",
       "WEEKDAY            int64\n",
       "LATITUDE         float64\n",
       "LONGITUDE        float64\n",
       "WardName          object\n",
       "WARDNUMBER       float64\n",
       "Neighbourhood     object\n",
       "Hood_ID            int64\n",
       "DIVISION          object\n",
       "DISTRICT          object\n",
       "STREET1           object\n",
       "STREET2           object\n",
       "ROAD_CLASS        object\n",
       "LOCCOORD          object\n",
       "ACCLOC            object\n",
       "TRAFFCTL          object\n",
       "VISIBILITY        object\n",
       "LIGHT             object\n",
       "RDSFCOND          object\n",
       "ACCLASS           object\n",
       "IMPACTYPE         object\n",
       "INVTYPE           object\n",
       "INVAGE            object\n",
       "INJURY            object\n",
       "INITDIR           object\n",
       "VEHTYPE           object\n",
       "MANOEUVER         object\n",
       "DRIVACT           object\n",
       "DRIVCOND          object\n",
       "PEDESTRIAN         int64\n",
       "CYCLIST            int64\n",
       "AUTOMOBILE         int64\n",
       "MOTORCYCLE         int64\n",
       "TRUCK              int64\n",
       "TRSN_CITY_VEH      int64\n",
       "EMERG_VEH          int64\n",
       "PASSENGER          int64\n",
       "SPEEDING           int64\n",
       "AG_DRIV            int64\n",
       "REDLIGHT           int64\n",
       "ALCOHOL            int64\n",
       "DISABILITY         int64\n",
       "FATAL              int64\n",
       "dtype: object"
      ]
     },
     "execution_count": 72,
     "metadata": {},
     "output_type": "execute_result"
    }
   ],
   "source": [
    "#Checking the data types of variables. So, that we can use them appropriately\n",
    "df.dtypes"
   ]
  },
  {
   "cell_type": "code",
   "execution_count": 73,
   "metadata": {},
   "outputs": [],
   "source": [
    "# Note: Don't run this code again, because the object type has already been changed to category in the first run. It will throw an error, if you just run this cell. Rather, try ruuning the code from start to check it\n",
    "# We need to change object data type to category. So, that we can leverage them using dummies formation \n",
    "cols = df.select_dtypes([\"object\"]).columns\n",
    "df[cols] = df[cols].astype('category')"
   ]
  },
  {
   "cell_type": "code",
   "execution_count": 74,
   "metadata": {},
   "outputs": [
    {
     "data": {
      "text/plain": [
       "ACCNUM              int64\n",
       "YEAR                int64\n",
       "MONTH               int64\n",
       "DAY                 int64\n",
       "HOUR                int64\n",
       "MINUTE              int64\n",
       "WEEKDAY             int64\n",
       "LATITUDE          float64\n",
       "LONGITUDE         float64\n",
       "WardName         category\n",
       "WARDNUMBER        float64\n",
       "Neighbourhood    category\n",
       "Hood_ID             int64\n",
       "DIVISION         category\n",
       "DISTRICT         category\n",
       "STREET1          category\n",
       "STREET2          category\n",
       "ROAD_CLASS       category\n",
       "LOCCOORD         category\n",
       "ACCLOC           category\n",
       "TRAFFCTL         category\n",
       "VISIBILITY       category\n",
       "LIGHT            category\n",
       "RDSFCOND         category\n",
       "ACCLASS          category\n",
       "IMPACTYPE        category\n",
       "INVTYPE          category\n",
       "INVAGE           category\n",
       "INJURY           category\n",
       "INITDIR          category\n",
       "VEHTYPE          category\n",
       "MANOEUVER        category\n",
       "DRIVACT          category\n",
       "DRIVCOND         category\n",
       "PEDESTRIAN          int64\n",
       "CYCLIST             int64\n",
       "AUTOMOBILE          int64\n",
       "MOTORCYCLE          int64\n",
       "TRUCK               int64\n",
       "TRSN_CITY_VEH       int64\n",
       "EMERG_VEH           int64\n",
       "PASSENGER           int64\n",
       "SPEEDING            int64\n",
       "AG_DRIV             int64\n",
       "REDLIGHT            int64\n",
       "ALCOHOL             int64\n",
       "DISABILITY          int64\n",
       "FATAL               int64\n",
       "dtype: object"
      ]
     },
     "execution_count": 74,
     "metadata": {},
     "output_type": "execute_result"
    }
   ],
   "source": [
    "# printing the data types again\n",
    "df.dtypes"
   ]
  },
  {
   "cell_type": "code",
   "execution_count": 75,
   "metadata": {},
   "outputs": [
    {
     "data": {
      "text/plain": [
       "Index(['ACCNUM', 'YEAR', 'MONTH', 'DAY', 'HOUR', 'MINUTE', 'WEEKDAY',\n",
       "       'LATITUDE', 'LONGITUDE', 'WardName', 'WARDNUMBER', 'Neighbourhood',\n",
       "       'Hood_ID', 'DIVISION', 'DISTRICT', 'STREET1', 'STREET2', 'ROAD_CLASS',\n",
       "       'LOCCOORD', 'ACCLOC', 'TRAFFCTL', 'VISIBILITY', 'LIGHT', 'RDSFCOND',\n",
       "       'ACCLASS', 'IMPACTYPE', 'INVTYPE', 'INVAGE', 'INJURY', 'INITDIR',\n",
       "       'VEHTYPE', 'MANOEUVER', 'DRIVACT', 'DRIVCOND', 'PEDESTRIAN', 'CYCLIST',\n",
       "       'AUTOMOBILE', 'MOTORCYCLE', 'TRUCK', 'TRSN_CITY_VEH', 'EMERG_VEH',\n",
       "       'PASSENGER', 'SPEEDING', 'AG_DRIV', 'REDLIGHT', 'ALCOHOL', 'DISABILITY',\n",
       "       'FATAL'],\n",
       "      dtype='object')"
      ]
     },
     "execution_count": 75,
     "metadata": {},
     "output_type": "execute_result"
    }
   ],
   "source": [
    "# Preparing data for modeling\n",
    "# First use common-sense, We could see many varibales which are telling about the location,\n",
    "# if we have latitude and longitude then we can find anything we want like divison, ward number/name, streets etc.\n",
    "# create a copy of dataframe for modeling purpose so that we can use original dataframe for visualisation and analysis purpose if need to\n",
    "df1 = df\n",
    "df1.columns"
   ]
  },
  {
   "cell_type": "code",
   "execution_count": 76,
   "metadata": {},
   "outputs": [
    {
     "data": {
      "text/plain": [
       "Index(['ACCNUM', 'YEAR', 'MONTH', 'DAY', 'HOUR', 'MINUTE', 'WEEKDAY',\n",
       "       'LATITUDE', 'LONGITUDE', 'Hood_ID', 'DISTRICT', 'ROAD_CLASS',\n",
       "       'TRAFFCTL', 'VISIBILITY', 'LIGHT', 'RDSFCOND', 'ACCLASS', 'IMPACTYPE',\n",
       "       'INVTYPE', 'INVAGE', 'INJURY', 'VEHTYPE', 'MANOEUVER', 'DRIVACT',\n",
       "       'DRIVCOND', 'PEDESTRIAN', 'CYCLIST', 'AUTOMOBILE', 'MOTORCYCLE',\n",
       "       'TRUCK', 'TRSN_CITY_VEH', 'EMERG_VEH', 'PASSENGER', 'SPEEDING',\n",
       "       'AG_DRIV', 'REDLIGHT', 'ALCOHOL', 'DISABILITY', 'FATAL'],\n",
       "      dtype='object')"
      ]
     },
     "execution_count": 76,
     "metadata": {},
     "output_type": "execute_result"
    }
   ],
   "source": [
    "df1 = df1.drop([\"WardName\", \"WARDNUMBER\", \"Neighbourhood\", \"DIVISION\", \"STREET1\", \"STREET2\", \"LOCCOORD\", \"ACCLOC\",\"INITDIR\"], axis=1)\n",
    "df1.columns"
   ]
  },
  {
   "cell_type": "code",
   "execution_count": 77,
   "metadata": {},
   "outputs": [
    {
     "data": {
      "text/plain": [
       "Index(['ACCNUM', 'YEAR', 'MONTH', 'DAY', 'HOUR', 'MINUTE', 'WEEKDAY',\n",
       "       'LATITUDE', 'LONGITUDE', 'Hood_ID', 'DISTRICT', 'ROAD_CLASS',\n",
       "       'TRAFFCTL', 'VISIBILITY', 'LIGHT', 'RDSFCOND', 'IMPACTYPE', 'INVTYPE',\n",
       "       'INVAGE', 'INJURY', 'MANOEUVER', 'DRIVACT', 'DRIVCOND', 'PEDESTRIAN',\n",
       "       'CYCLIST', 'AUTOMOBILE', 'MOTORCYCLE', 'TRUCK', 'TRSN_CITY_VEH',\n",
       "       'EMERG_VEH', 'PASSENGER', 'SPEEDING', 'AG_DRIV', 'REDLIGHT', 'ALCOHOL',\n",
       "       'DISABILITY', 'FATAL'],\n",
       "      dtype='object')"
      ]
     },
     "execution_count": 77,
     "metadata": {},
     "output_type": "execute_result"
    }
   ],
   "source": [
    "# Dropping few more, ACCLASS has variables fatal and non-fatal, and We also have FATAL variable which has values 0 and 1, which tells us the same story.\n",
    "# dropping VEHTYPE because we already have different variables like automobile, motorcycle etc.\n",
    "df1=df1.drop([\"ACCLASS\",\"VEHTYPE\"],axis=1)\n",
    "df1.columns"
   ]
  },
  {
   "cell_type": "code",
   "execution_count": 78,
   "metadata": {},
   "outputs": [
    {
     "data": {
      "text/plain": [
       "0        50 to 54\n",
       "1        15 to 19\n",
       "2        55 to 59\n",
       "3        20 to 24\n",
       "4        15 to 19\n",
       "           ...   \n",
       "16088    20 to 24\n",
       "16089    10 to 14\n",
       "16090    50 to 54\n",
       "16091    25 to 29\n",
       "16092    25 to 29\n",
       "Name: INVAGE, Length: 16093, dtype: category\n",
       "Categories (21, object): [0 to 4, 10 to 14, 15 to 19, 20 to 24, ..., 85 to 89, 90 to 94, Over 95, unknown]"
      ]
     },
     "execution_count": 78,
     "metadata": {},
     "output_type": "execute_result"
    }
   ],
   "source": [
    "# This Age variable data formatted in a bad way. So, can' t be used.\n",
    "df1.INVAGE"
   ]
  },
  {
   "cell_type": "code",
   "execution_count": 79,
   "metadata": {},
   "outputs": [
    {
     "data": {
      "text/plain": [
       "Index(['ACCNUM', 'YEAR', 'MONTH', 'DAY', 'HOUR', 'MINUTE', 'WEEKDAY',\n",
       "       'LATITUDE', 'LONGITUDE', 'Hood_ID', 'DISTRICT', 'ROAD_CLASS',\n",
       "       'TRAFFCTL', 'VISIBILITY', 'LIGHT', 'RDSFCOND', 'IMPACTYPE', 'INVTYPE',\n",
       "       'INJURY', 'MANOEUVER', 'DRIVACT', 'DRIVCOND', 'PEDESTRIAN', 'CYCLIST',\n",
       "       'AUTOMOBILE', 'MOTORCYCLE', 'TRUCK', 'TRSN_CITY_VEH', 'EMERG_VEH',\n",
       "       'PASSENGER', 'SPEEDING', 'AG_DRIV', 'REDLIGHT', 'ALCOHOL', 'DISABILITY',\n",
       "       'FATAL'],\n",
       "      dtype='object')"
      ]
     },
     "execution_count": 79,
     "metadata": {},
     "output_type": "execute_result"
    }
   ],
   "source": [
    "df1=df1.drop([\"INVAGE\"],axis=1)\n",
    "df1.columns"
   ]
  },
  {
   "cell_type": "code",
   "execution_count": 80,
   "metadata": {},
   "outputs": [
    {
     "data": {
      "image/png": "[encoded data removed]",
      "text/plain": [
       "<Figure size 792x504 with 2 Axes>"
      ]
     },
     "metadata": {
      "needs_background": "light"
     },
     "output_type": "display_data"
    }
   ],
   "source": [
    "#correlation \n",
    "corr = df.corr()\n",
    "fig, ax = plt.subplots()\n",
    "fig.set_size_inches(11, 7)\n",
    "sns.heatmap(corr, annot=True, fmt=\".1f\", cmap=\"RdBu\", center=0, ax=ax)\n",
    "\n",
    "plt.show()"
   ]
  },
  {
   "cell_type": "code",
   "execution_count": 81,
   "metadata": {},
   "outputs": [
    {
     "name": "stderr",
     "output_type": "stream",
     "text": [
      "No handles with labels found to put in legend.\n"
     ]
    },
    {
     "data": {
      "image/png": "[encoded data removed]",
      "text/plain": [
       "<Figure size 864x432 with 1 Axes>"
      ]
     },
     "metadata": {
      "needs_background": "light"
     },
     "output_type": "display_data"
    }
   ],
   "source": [
    "# lets see some visualisation,\n",
    "#District wise Accidents which includes Fatal and NON-Fatal for popluation perspective.\n",
    "\n",
    "District = df1['DISTRICT'].value_counts()\n",
    "plt.figure(figsize=(12,6))\n",
    "plt.ylabel('Number of Accidents')\n",
    "plt.legend()\n",
    "District.plot(kind='bar')\n",
    "plt.show()"
   ]
  },
  {
   "cell_type": "code",
   "execution_count": 82,
   "metadata": {},
   "outputs": [
    {
     "data": {
      "text/html": [
       "<div>\n",
       "<style scoped>\n",
       "    .dataframe tbody tr th:only-of-type {\n",
       "        vertical-align: middle;\n",
       "    }\n",
       "\n",
       "    .dataframe tbody tr th {\n",
       "        vertical-align: top;\n",
       "    }\n",
       "\n",
       "    .dataframe thead th {\n",
       "        text-align: right;\n",
       "    }\n",
       "</style>\n",
       "<table border=\"1\" class=\"dataframe\">\n",
       "  <thead>\n",
       "    <tr style=\"text-align: right;\">\n",
       "      <th>YEAR</th>\n",
       "      <th>2006</th>\n",
       "      <th>2007</th>\n",
       "      <th>2008</th>\n",
       "      <th>2009</th>\n",
       "      <th>2010</th>\n",
       "      <th>2011</th>\n",
       "      <th>2012</th>\n",
       "      <th>2013</th>\n",
       "      <th>2014</th>\n",
       "      <th>2015</th>\n",
       "      <th>2016</th>\n",
       "      <th>2017</th>\n",
       "      <th>2018</th>\n",
       "      <th>2019</th>\n",
       "    </tr>\n",
       "    <tr>\n",
       "      <th>DISTRICT</th>\n",
       "      <th></th>\n",
       "      <th></th>\n",
       "      <th></th>\n",
       "      <th></th>\n",
       "      <th></th>\n",
       "      <th></th>\n",
       "      <th></th>\n",
       "      <th></th>\n",
       "      <th></th>\n",
       "      <th></th>\n",
       "      <th></th>\n",
       "      <th></th>\n",
       "      <th></th>\n",
       "      <th></th>\n",
       "    </tr>\n",
       "  </thead>\n",
       "  <tbody>\n",
       "    <tr>\n",
       "      <th>Etobicoke York</th>\n",
       "      <td>55</td>\n",
       "      <td>38</td>\n",
       "      <td>43</td>\n",
       "      <td>30</td>\n",
       "      <td>32</td>\n",
       "      <td>36</td>\n",
       "      <td>30</td>\n",
       "      <td>33</td>\n",
       "      <td>28</td>\n",
       "      <td>33</td>\n",
       "      <td>48</td>\n",
       "      <td>27</td>\n",
       "      <td>38</td>\n",
       "      <td>33</td>\n",
       "    </tr>\n",
       "    <tr>\n",
       "      <th>North York</th>\n",
       "      <td>34</td>\n",
       "      <td>29</td>\n",
       "      <td>57</td>\n",
       "      <td>28</td>\n",
       "      <td>16</td>\n",
       "      <td>35</td>\n",
       "      <td>33</td>\n",
       "      <td>35</td>\n",
       "      <td>40</td>\n",
       "      <td>39</td>\n",
       "      <td>36</td>\n",
       "      <td>24</td>\n",
       "      <td>41</td>\n",
       "      <td>46</td>\n",
       "    </tr>\n",
       "    <tr>\n",
       "      <th>Scarborough</th>\n",
       "      <td>71</td>\n",
       "      <td>59</td>\n",
       "      <td>32</td>\n",
       "      <td>34</td>\n",
       "      <td>43</td>\n",
       "      <td>22</td>\n",
       "      <td>38</td>\n",
       "      <td>71</td>\n",
       "      <td>32</td>\n",
       "      <td>44</td>\n",
       "      <td>51</td>\n",
       "      <td>52</td>\n",
       "      <td>45</td>\n",
       "      <td>50</td>\n",
       "    </tr>\n",
       "    <tr>\n",
       "      <th>Toronto and East York</th>\n",
       "      <td>29</td>\n",
       "      <td>43</td>\n",
       "      <td>47</td>\n",
       "      <td>41</td>\n",
       "      <td>66</td>\n",
       "      <td>30</td>\n",
       "      <td>24</td>\n",
       "      <td>73</td>\n",
       "      <td>34</td>\n",
       "      <td>41</td>\n",
       "      <td>53</td>\n",
       "      <td>41</td>\n",
       "      <td>27</td>\n",
       "      <td>16</td>\n",
       "    </tr>\n",
       "  </tbody>\n",
       "</table>\n",
       "</div>"
      ],
      "text/plain": [
       "YEAR                   2006  2007  2008  2009  2010  2011  2012  2013  2014  \\\n",
       "DISTRICT                                                                      \n",
       "Etobicoke York           55    38    43    30    32    36    30    33    28   \n",
       "North York               34    29    57    28    16    35    33    35    40   \n",
       "Scarborough              71    59    32    34    43    22    38    71    32   \n",
       "Toronto and East York    29    43    47    41    66    30    24    73    34   \n",
       "\n",
       "YEAR                   2015  2016  2017  2018  2019  \n",
       "DISTRICT                                             \n",
       "Etobicoke York           33    48    27    38    33  \n",
       "North York               39    36    24    41    46  \n",
       "Scarborough              44    51    52    45    50  \n",
       "Toronto and East York    41    53    41    27    16  "
      ]
     },
     "execution_count": 82,
     "metadata": {},
     "output_type": "execute_result"
    }
   ],
   "source": [
    "# Frequency of FATAL collisions in different districts per year\n",
    "District_year = df1.groupby(by=['DISTRICT','YEAR'],as_index=False).sum()\n",
    "District_year = District_year.pivot('DISTRICT','YEAR','FATAL')\n",
    "District_year"
   ]
  },
  {
   "cell_type": "code",
   "execution_count": 83,
   "metadata": {},
   "outputs": [
    {
     "data": {
      "image/png": "[encoded data removed]",
      "text/plain": [
       "<Figure size 864x432 with 2 Axes>"
      ]
     },
     "metadata": {
      "needs_background": "light"
     },
     "output_type": "display_data"
    }
   ],
   "source": [
    "#lets see month and year wise as well.\n",
    "year_month = df1.groupby(by=['YEAR', 'MONTH'],as_index=False).sum()\n",
    "year_month = year_month.pivot('MONTH','YEAR','FATAL')\n",
    "plt.figure(figsize=(12,6))\n",
    "sns.heatmap(year_month, center=year_month.loc[1, 2007], annot=True, fmt=\".1f\", cmap=\"RdBu\")\n",
    "plt.show()\n",
    "\n",
    "# This chart gives us the information about the frequencies of fatal collisions month and year wise,\n",
    "# it turns out that August 2013 records highest fatal incidents, and records 0 collisions in May 2011."
   ]
  },
  {
   "cell_type": "code",
   "execution_count": 84,
   "metadata": {},
   "outputs": [
    {
     "data": {
      "image/png": "[encoded data removed]",
      "text/plain": [
       "<Figure size 864x432 with 1 Axes>"
      ]
     },
     "metadata": {
      "needs_background": "light"
     },
     "output_type": "display_data"
    }
   ],
   "source": [
    "# looking at the different vehicles.\n",
    "Vehicles = df['VEHTYPE'].value_counts()\n",
    "plt.figure(figsize=(12,6))\n",
    "plt.ylabel('Number of VEHILCES')\n",
    "Vehicles.plot(kind='bar')\n",
    "plt.show()"
   ]
  },
  {
   "cell_type": "code",
   "execution_count": 85,
   "metadata": {},
   "outputs": [
    {
     "data": {
      "text/plain": [
       "Text(0, 0.5, 'Victims')"
      ]
     },
     "execution_count": 85,
     "metadata": {},
     "output_type": "execute_result"
    },
    {
     "data": {
      "image/png": "[encoded data removed]",
      "text/plain": [
       "<Figure size 720x576 with 1 Axes>"
      ]
     },
     "metadata": {
      "needs_background": "light"
     },
     "output_type": "display_data"
    }
   ],
   "source": [
    "#Type of vehicles involved\n",
    "victims = df1.pivot_table(index='YEAR',values=['CYCLIST','PEDESTRIAN','PASSENGER'],aggfunc=np.sum)\n",
    "victims.plot(figsize=(10,8), title=\"Type of Victims\", grid=True)\n",
    "plt.ylabel('Victims')"
   ]
  },
  {
   "cell_type": "code",
   "execution_count": 86,
   "metadata": {},
   "outputs": [
    {
     "name": "stdout",
     "output_type": "stream",
     "text": [
      "<class 'pandas.core.frame.DataFrame'>\n",
      "RangeIndex: 16093 entries, 0 to 16092\n",
      "Data columns (total 36 columns):\n",
      " #   Column         Non-Null Count  Dtype   \n",
      "---  ------         --------------  -----   \n",
      " 0   ACCNUM         16093 non-null  int64   \n",
      " 1   YEAR           16093 non-null  int64   \n",
      " 2   MONTH          16093 non-null  int64   \n",
      " 3   DAY            16093 non-null  int64   \n",
      " 4   HOUR           16093 non-null  int64   \n",
      " 5   MINUTE         16093 non-null  int64   \n",
      " 6   WEEKDAY        16093 non-null  int64   \n",
      " 7   LATITUDE       16093 non-null  float64 \n",
      " 8   LONGITUDE      16093 non-null  float64 \n",
      " 9   Hood_ID        16093 non-null  int64   \n",
      " 10  DISTRICT       16080 non-null  category\n",
      " 11  ROAD_CLASS     15725 non-null  category\n",
      " 12  TRAFFCTL       16064 non-null  category\n",
      " 13  VISIBILITY     16071 non-null  category\n",
      " 14  LIGHT          16093 non-null  category\n",
      " 15  RDSFCOND       16066 non-null  category\n",
      " 16  IMPACTYPE      16089 non-null  category\n",
      " 17  INVTYPE        16083 non-null  category\n",
      " 18  INJURY         14484 non-null  category\n",
      " 19  MANOEUVER      9141 non-null   category\n",
      " 20  DRIVACT        8032 non-null   category\n",
      " 21  DRIVCOND       8032 non-null   category\n",
      " 22  PEDESTRIAN     16093 non-null  int64   \n",
      " 23  CYCLIST        16093 non-null  int64   \n",
      " 24  AUTOMOBILE     16093 non-null  int64   \n",
      " 25  MOTORCYCLE     16093 non-null  int64   \n",
      " 26  TRUCK          16093 non-null  int64   \n",
      " 27  TRSN_CITY_VEH  16093 non-null  int64   \n",
      " 28  EMERG_VEH      16093 non-null  int64   \n",
      " 29  PASSENGER      16093 non-null  int64   \n",
      " 30  SPEEDING       16093 non-null  int64   \n",
      " 31  AG_DRIV        16093 non-null  int64   \n",
      " 32  REDLIGHT       16093 non-null  int64   \n",
      " 33  ALCOHOL        16093 non-null  int64   \n",
      " 34  DISABILITY     16093 non-null  int64   \n",
      " 35  FATAL          16093 non-null  int64   \n",
      "dtypes: category(12), float64(2), int64(22)\n",
      "memory usage: 3.1 MB\n"
     ]
    }
   ],
   "source": [
    "df1.info()"
   ]
  },
  {
   "cell_type": "code",
   "execution_count": 87,
   "metadata": {},
   "outputs": [
    {
     "data": {
      "text/plain": [
       "0            NaN\n",
       "1            NaN\n",
       "2    Going Ahead\n",
       "3            NaN\n",
       "4            NaN\n",
       "5            NaN\n",
       "6            NaN\n",
       "7    Going Ahead\n",
       "8            NaN\n",
       "9            NaN\n",
       "Name: MANOEUVER, dtype: category\n",
       "Categories (16, object): [Changing Lanes, Disabled, Going Ahead, Making U Turn, ..., Stopped, Turning Left, Turning Right, Unknown]"
      ]
     },
     "execution_count": 87,
     "metadata": {},
     "output_type": "execute_result"
    }
   ],
   "source": [
    "df1.MANOEUVER.head(10)\n"
   ]
  },
  {
   "cell_type": "code",
   "execution_count": 88,
   "metadata": {},
   "outputs": [
    {
     "data": {
      "text/plain": [
       "Index(['ACCNUM', 'YEAR', 'MONTH', 'DAY', 'HOUR', 'MINUTE', 'WEEKDAY',\n",
       "       'LATITUDE', 'LONGITUDE', 'Hood_ID', 'DISTRICT', 'ROAD_CLASS',\n",
       "       'TRAFFCTL', 'VISIBILITY', 'LIGHT', 'RDSFCOND', 'IMPACTYPE', 'INVTYPE',\n",
       "       'INJURY', 'DRIVACT', 'DRIVCOND', 'PEDESTRIAN', 'CYCLIST', 'AUTOMOBILE',\n",
       "       'MOTORCYCLE', 'TRUCK', 'TRSN_CITY_VEH', 'EMERG_VEH', 'PASSENGER',\n",
       "       'SPEEDING', 'AG_DRIV', 'REDLIGHT', 'ALCOHOL', 'DISABILITY', 'FATAL'],\n",
       "      dtype='object')"
      ]
     },
     "execution_count": 88,
     "metadata": {},
     "output_type": "execute_result"
    }
   ],
   "source": [
    "# MANOEUVER has too many categories and half of the missing values.\n",
    "df1=df1.drop(['MANOEUVER'],axis=1)\n",
    "df1.columns"
   ]
  },
  {
   "cell_type": "code",
   "execution_count": 89,
   "metadata": {},
   "outputs": [
    {
     "data": {
      "text/plain": [
       "0                 NaN\n",
       "1                 NaN\n",
       "2    Driving Properly\n",
       "3                 NaN\n",
       "4                 NaN\n",
       "5                 NaN\n",
       "6                 NaN\n",
       "7        Lost control\n",
       "8                 NaN\n",
       "9                 NaN\n",
       "Name: DRIVACT, dtype: category\n",
       "Categories (13, object): [Disobeyed Traffic Control, Driving Properly, Exceeding Speed Limit, Failed to Yield Right of Way, ..., Other, Speed too Fast For Condition, Speed too Slow, Wrong Way on One Way Road]"
      ]
     },
     "execution_count": 89,
     "metadata": {},
     "output_type": "execute_result"
    }
   ],
   "source": [
    "df1.DRIVACT.head(10)"
   ]
  },
  {
   "cell_type": "code",
   "execution_count": 90,
   "metadata": {},
   "outputs": [
    {
     "data": {
      "text/plain": [
       "Index(['ACCNUM', 'YEAR', 'MONTH', 'DAY', 'HOUR', 'MINUTE', 'WEEKDAY',\n",
       "       'LATITUDE', 'LONGITUDE', 'Hood_ID', 'DISTRICT', 'ROAD_CLASS',\n",
       "       'TRAFFCTL', 'VISIBILITY', 'LIGHT', 'RDSFCOND', 'IMPACTYPE', 'INVTYPE',\n",
       "       'INJURY', 'DRIVCOND', 'PEDESTRIAN', 'CYCLIST', 'AUTOMOBILE',\n",
       "       'MOTORCYCLE', 'TRUCK', 'TRSN_CITY_VEH', 'EMERG_VEH', 'PASSENGER',\n",
       "       'SPEEDING', 'AG_DRIV', 'REDLIGHT', 'ALCOHOL', 'DISABILITY', 'FATAL'],\n",
       "      dtype='object')"
      ]
     },
     "execution_count": 90,
     "metadata": {},
     "output_type": "execute_result"
    }
   ],
   "source": [
    "# DRIVACT has too many categories and half of the missing values.\n",
    "df1=df1.drop(['DRIVACT'],axis=1)\n",
    "df1.columns"
   ]
  },
  {
   "cell_type": "code",
   "execution_count": 91,
   "metadata": {},
   "outputs": [
    {
     "data": {
      "text/plain": [
       "0                                   NaN\n",
       "1                                   NaN\n",
       "2                                Normal\n",
       "3                                   NaN\n",
       "4                                   NaN\n",
       "5                                   NaN\n",
       "6                                   NaN\n",
       "7    Ability Impaired, Alcohol Over .08\n",
       "8                                   NaN\n",
       "9                                   NaN\n",
       "Name: DRIVCOND, dtype: category\n",
       "Categories (10, object): [Ability Impaired, Alcohol, Ability Impaired, Alcohol Over .08, Ability Impaired, Drugs, Fatigue, ..., Medical or Physical Disability, Normal, Other, Unknown]"
      ]
     },
     "execution_count": 91,
     "metadata": {},
     "output_type": "execute_result"
    }
   ],
   "source": [
    "df1.DRIVCOND.head(10)"
   ]
  },
  {
   "cell_type": "code",
   "execution_count": 92,
   "metadata": {},
   "outputs": [
    {
     "data": {
      "text/plain": [
       "Index(['ACCNUM', 'YEAR', 'MONTH', 'DAY', 'HOUR', 'MINUTE', 'WEEKDAY',\n",
       "       'LATITUDE', 'LONGITUDE', 'Hood_ID', 'DISTRICT', 'ROAD_CLASS',\n",
       "       'TRAFFCTL', 'VISIBILITY', 'LIGHT', 'RDSFCOND', 'IMPACTYPE', 'INVTYPE',\n",
       "       'INJURY', 'PEDESTRIAN', 'CYCLIST', 'AUTOMOBILE', 'MOTORCYCLE', 'TRUCK',\n",
       "       'TRSN_CITY_VEH', 'EMERG_VEH', 'PASSENGER', 'SPEEDING', 'AG_DRIV',\n",
       "       'REDLIGHT', 'ALCOHOL', 'DISABILITY', 'FATAL'],\n",
       "      dtype='object')"
      ]
     },
     "execution_count": 92,
     "metadata": {},
     "output_type": "execute_result"
    }
   ],
   "source": [
    "# DRIVCOND has too many categories and half of the missing values.\n",
    "df1=df1.drop(['DRIVCOND'],axis=1)\n",
    "df1.columns"
   ]
  },
  {
   "cell_type": "code",
   "execution_count": 93,
   "metadata": {},
   "outputs": [
    {
     "data": {
      "text/plain": [
       "Index(['ACCNUM', 'YEAR', 'MONTH', 'DAY', 'HOUR', 'MINUTE', 'WEEKDAY',\n",
       "       'LATITUDE', 'LONGITUDE', 'Hood_ID', 'DISTRICT', 'TRAFFCTL',\n",
       "       'VISIBILITY', 'LIGHT', 'RDSFCOND', 'IMPACTYPE', 'INVTYPE', 'INJURY',\n",
       "       'PEDESTRIAN', 'CYCLIST', 'AUTOMOBILE', 'MOTORCYCLE', 'TRUCK',\n",
       "       'TRSN_CITY_VEH', 'EMERG_VEH', 'PASSENGER', 'SPEEDING', 'AG_DRIV',\n",
       "       'REDLIGHT', 'ALCOHOL', 'DISABILITY', 'FATAL'],\n",
       "      dtype='object')"
      ]
     },
     "execution_count": 93,
     "metadata": {},
     "output_type": "execute_result"
    }
   ],
   "source": [
    "# ROAD_CLASS has too many categories and does not make sense in evaluating fatal.\n",
    "df1=df1.drop(['ROAD_CLASS'],axis=1)\n",
    "df1.columns"
   ]
  },
  {
   "cell_type": "code",
   "execution_count": 94,
   "metadata": {},
   "outputs": [
    {
     "data": {
      "text/plain": [
       "Index(['ACCNUM', 'YEAR', 'MONTH', 'DAY', 'HOUR', 'MINUTE', 'WEEKDAY',\n",
       "       'LATITUDE', 'LONGITUDE', 'Hood_ID', 'DISTRICT', 'TRAFFCTL',\n",
       "       'VISIBILITY', 'LIGHT', 'RDSFCOND', 'INVTYPE', 'PEDESTRIAN', 'CYCLIST',\n",
       "       'AUTOMOBILE', 'MOTORCYCLE', 'TRUCK', 'TRSN_CITY_VEH', 'EMERG_VEH',\n",
       "       'PASSENGER', 'SPEEDING', 'AG_DRIV', 'REDLIGHT', 'ALCOHOL', 'DISABILITY',\n",
       "       'FATAL'],\n",
       "      dtype='object')"
      ]
     },
     "execution_count": 94,
     "metadata": {},
     "output_type": "execute_result"
    }
   ],
   "source": [
    "# injury and impact is also an after effect which should not impact our prediction of being fatal or non-fatal\n",
    "df1=df1.drop(['IMPACTYPE','INJURY'],axis=1)\n",
    "df1.columns"
   ]
  },
  {
   "cell_type": "code",
   "execution_count": 95,
   "metadata": {},
   "outputs": [
    {
     "data": {
      "text/plain": [
       "Index(['ACCNUM', 'YEAR', 'MONTH', 'DAY', 'HOUR', 'MINUTE', 'WEEKDAY',\n",
       "       'LATITUDE', 'LONGITUDE', 'Hood_ID', 'DISTRICT', 'TRAFFCTL',\n",
       "       'VISIBILITY', 'LIGHT', 'RDSFCOND', 'PEDESTRIAN', 'CYCLIST',\n",
       "       'AUTOMOBILE', 'MOTORCYCLE', 'TRUCK', 'TRSN_CITY_VEH', 'EMERG_VEH',\n",
       "       'PASSENGER', 'SPEEDING', 'AG_DRIV', 'REDLIGHT', 'ALCOHOL', 'DISABILITY',\n",
       "       'FATAL'],\n",
       "      dtype='object')"
      ]
     },
     "execution_count": 95,
     "metadata": {},
     "output_type": "execute_result"
    }
   ],
   "source": [
    "# INVTYPE is redundant as we already has its categories as variables.\n",
    "df1=df1.drop(['INVTYPE'],axis=1)\n",
    "df1.columns"
   ]
  },
  {
   "cell_type": "code",
   "execution_count": 96,
   "metadata": {},
   "outputs": [
    {
     "name": "stdout",
     "output_type": "stream",
     "text": [
      "<class 'pandas.core.frame.DataFrame'>\n",
      "RangeIndex: 16093 entries, 0 to 16092\n",
      "Data columns (total 29 columns):\n",
      " #   Column         Non-Null Count  Dtype   \n",
      "---  ------         --------------  -----   \n",
      " 0   ACCNUM         16093 non-null  int64   \n",
      " 1   YEAR           16093 non-null  int64   \n",
      " 2   MONTH          16093 non-null  int64   \n",
      " 3   DAY            16093 non-null  int64   \n",
      " 4   HOUR           16093 non-null  int64   \n",
      " 5   MINUTE         16093 non-null  int64   \n",
      " 6   WEEKDAY        16093 non-null  int64   \n",
      " 7   LATITUDE       16093 non-null  float64 \n",
      " 8   LONGITUDE      16093 non-null  float64 \n",
      " 9   Hood_ID        16093 non-null  int64   \n",
      " 10  DISTRICT       16080 non-null  category\n",
      " 11  TRAFFCTL       16064 non-null  category\n",
      " 12  VISIBILITY     16071 non-null  category\n",
      " 13  LIGHT          16093 non-null  category\n",
      " 14  RDSFCOND       16066 non-null  category\n",
      " 15  PEDESTRIAN     16093 non-null  int64   \n",
      " 16  CYCLIST        16093 non-null  int64   \n",
      " 17  AUTOMOBILE     16093 non-null  int64   \n",
      " 18  MOTORCYCLE     16093 non-null  int64   \n",
      " 19  TRUCK          16093 non-null  int64   \n",
      " 20  TRSN_CITY_VEH  16093 non-null  int64   \n",
      " 21  EMERG_VEH      16093 non-null  int64   \n",
      " 22  PASSENGER      16093 non-null  int64   \n",
      " 23  SPEEDING       16093 non-null  int64   \n",
      " 24  AG_DRIV        16093 non-null  int64   \n",
      " 25  REDLIGHT       16093 non-null  int64   \n",
      " 26  ALCOHOL        16093 non-null  int64   \n",
      " 27  DISABILITY     16093 non-null  int64   \n",
      " 28  FATAL          16093 non-null  int64   \n",
      "dtypes: category(5), float64(2), int64(22)\n",
      "memory usage: 3.0 MB\n"
     ]
    }
   ],
   "source": [
    "df1.info()"
   ]
  },
  {
   "cell_type": "code",
   "execution_count": 97,
   "metadata": {},
   "outputs": [],
   "source": [
    "# Now, we have only 4 categorical variables which are not redundant and might impact the prediction of fatal and non-fatal\n",
    "df1 = pd.get_dummies(df1, columns=['VISIBILITY','RDSFCOND','LIGHT','DISTRICT'])"
   ]
  },
  {
   "cell_type": "code",
   "execution_count": 98,
   "metadata": {},
   "outputs": [],
   "source": [
    "#considering Account number is kind of an id, which is not good to use for modeling perspective.\n",
    "df1=df1.drop(['ACCNUM','TRAFFCTL'],axis=1)"
   ]
  },
  {
   "cell_type": "code",
   "execution_count": 99,
   "metadata": {},
   "outputs": [
    {
     "data": {
      "text/plain": [
       "Index(['YEAR', 'MONTH', 'DAY', 'HOUR', 'MINUTE', 'WEEKDAY', 'LATITUDE',\n",
       "       'LONGITUDE', 'Hood_ID', 'PEDESTRIAN', 'CYCLIST', 'AUTOMOBILE',\n",
       "       'MOTORCYCLE', 'TRUCK', 'TRSN_CITY_VEH', 'EMERG_VEH', 'PASSENGER',\n",
       "       'SPEEDING', 'AG_DRIV', 'REDLIGHT', 'ALCOHOL', 'DISABILITY', 'FATAL',\n",
       "       'VISIBILITY_Clear', 'VISIBILITY_Drifting Snow',\n",
       "       'VISIBILITY_Fog, Mist, Smoke, Dust', 'VISIBILITY_Freezing Rain',\n",
       "       'VISIBILITY_Other', 'VISIBILITY_Rain', 'VISIBILITY_Snow',\n",
       "       'VISIBILITY_Strong wind', 'RDSFCOND_Dry', 'RDSFCOND_Ice',\n",
       "       'RDSFCOND_Loose Sand or Gravel', 'RDSFCOND_Loose Snow',\n",
       "       'RDSFCOND_Other', 'RDSFCOND_Packed Snow', 'RDSFCOND_Slush',\n",
       "       'RDSFCOND_Spilled liquid', 'RDSFCOND_Wet', 'LIGHT_Dark',\n",
       "       'LIGHT_Dark, artificial', 'LIGHT_Dawn', 'LIGHT_Dawn, artificial',\n",
       "       'LIGHT_Daylight', 'LIGHT_Daylight, artificial', 'LIGHT_Dusk',\n",
       "       'LIGHT_Dusk, artificial', 'LIGHT_Other', 'DISTRICT_Etobicoke York',\n",
       "       'DISTRICT_North York', 'DISTRICT_Scarborough',\n",
       "       'DISTRICT_Toronto and East York'],\n",
       "      dtype='object')"
      ]
     },
     "execution_count": 99,
     "metadata": {},
     "output_type": "execute_result"
    }
   ],
   "source": [
    "df1.columns"
   ]
  },
  {
   "cell_type": "code",
   "execution_count": 100,
   "metadata": {},
   "outputs": [],
   "source": [
    "X=df1.drop(['FATAL'],axis=1)\n",
    "y=df1['FATAL']"
   ]
  },
  {
   "cell_type": "code",
   "execution_count": 101,
   "metadata": {},
   "outputs": [],
   "source": [
    "# Splitting the data into 60% training and 40% testing\n",
    "train_X, valid_X, train_y, valid_y = train_test_split(X, y, test_size=0.4, random_state=1)"
   ]
  },
  {
   "cell_type": "code",
   "execution_count": 102,
   "metadata": {},
   "outputs": [
    {
     "name": "stdout",
     "output_type": "stream",
     "text": [
      "intercept  -0.009726303031814591\n",
      "          YEAR     MONTH       DAY      HOUR    MINUTE   WEEKDAY  LATITUDE  \\\n",
      "coeff  0.03017  0.000037  0.003218 -0.016689  0.003874 -0.016825 -0.403068   \n",
      "\n",
      "       LONGITUDE  Hood_ID  PEDESTRIAN  ...  LIGHT_Dawn, artificial  \\\n",
      "coeff   0.563198 -0.00158    0.892079  ...                0.084328   \n",
      "\n",
      "       LIGHT_Daylight  LIGHT_Daylight, artificial  LIGHT_Dusk  \\\n",
      "coeff       -0.253991                    -0.19819    0.297977   \n",
      "\n",
      "       LIGHT_Dusk, artificial  LIGHT_Other  DISTRICT_Etobicoke York  \\\n",
      "coeff               -0.145439     0.094318                 0.041146   \n",
      "\n",
      "       DISTRICT_North York  DISTRICT_Scarborough  \\\n",
      "coeff              0.05727              0.313404   \n",
      "\n",
      "       DISTRICT_Toronto and East York  \n",
      "coeff                        -0.48449  \n",
      "\n",
      "[1 rows x 52 columns]\n",
      "\n",
      "AIC 5410.805335331348\n"
     ]
    }
   ],
   "source": [
    "# fit a logistic regression (set penalty=l2 and Cv=3) on Selected variables on validation dataset\n",
    "logit_reg = LogisticRegressionCV(penalty=\"l2\", solver='liblinear', cv=3)\n",
    "logit_reg.fit(train_X, train_y)\n",
    "\n",
    "print('intercept ', logit_reg.intercept_[0])\n",
    "print(pd.DataFrame({'coeff': logit_reg.coef_[0]}, index=X.columns).transpose())\n",
    "print()\n",
    "print('AIC', AIC_score(valid_y, logit_reg.predict(valid_X), df = len(train_X.columns) + 1))"
   ]
  },
  {
   "cell_type": "code",
   "execution_count": 103,
   "metadata": {},
   "outputs": [
    {
     "data": {
      "text/html": [
       "<div>\n",
       "<style scoped>\n",
       "    .dataframe tbody tr th:only-of-type {\n",
       "        vertical-align: middle;\n",
       "    }\n",
       "\n",
       "    .dataframe tbody tr th {\n",
       "        vertical-align: top;\n",
       "    }\n",
       "\n",
       "    .dataframe thead th {\n",
       "        text-align: right;\n",
       "    }\n",
       "</style>\n",
       "<table border=\"1\" class=\"dataframe\">\n",
       "  <thead>\n",
       "    <tr style=\"text-align: right;\">\n",
       "      <th></th>\n",
       "      <th>actual</th>\n",
       "      <th>p(0)</th>\n",
       "      <th>p(1)</th>\n",
       "      <th>predicted</th>\n",
       "    </tr>\n",
       "  </thead>\n",
       "  <tbody>\n",
       "    <tr>\n",
       "      <th>5633</th>\n",
       "      <td>0</td>\n",
       "      <td>0.891551</td>\n",
       "      <td>0.108449</td>\n",
       "      <td>0</td>\n",
       "    </tr>\n",
       "    <tr>\n",
       "      <th>3745</th>\n",
       "      <td>1</td>\n",
       "      <td>0.787634</td>\n",
       "      <td>0.212366</td>\n",
       "      <td>0</td>\n",
       "    </tr>\n",
       "    <tr>\n",
       "      <th>3497</th>\n",
       "      <td>0</td>\n",
       "      <td>0.902270</td>\n",
       "      <td>0.097730</td>\n",
       "      <td>0</td>\n",
       "    </tr>\n",
       "    <tr>\n",
       "      <th>2305</th>\n",
       "      <td>0</td>\n",
       "      <td>0.825789</td>\n",
       "      <td>0.174211</td>\n",
       "      <td>0</td>\n",
       "    </tr>\n",
       "    <tr>\n",
       "      <th>14492</th>\n",
       "      <td>1</td>\n",
       "      <td>0.790908</td>\n",
       "      <td>0.209092</td>\n",
       "      <td>0</td>\n",
       "    </tr>\n",
       "  </tbody>\n",
       "</table>\n",
       "</div>"
      ],
      "text/plain": [
       "       actual      p(0)      p(1)  predicted\n",
       "5633        0  0.891551  0.108449          0\n",
       "3745        1  0.787634  0.212366          0\n",
       "3497        0  0.902270  0.097730          0\n",
       "2305        0  0.825789  0.174211          0\n",
       "14492       1  0.790908  0.209092          0"
      ]
     },
     "execution_count": 103,
     "metadata": {},
     "output_type": "execute_result"
    }
   ],
   "source": [
    "#Predict to get probablities on selected variables on validation dataset\n",
    "\n",
    "logit_red_pred = logit_reg.predict(valid_X)\n",
    "logit_red_proba = logit_reg.predict_proba(valid_X)\n",
    "\n",
    "    \n",
    "\n",
    "logit_result = pd.DataFrame({'actual': valid_y, \n",
    "                             'p(0)': [p[0] for p in logit_red_proba],\n",
    "                             'p(1)': [p[1] for p in logit_red_proba],\n",
    "                             'predicted': logit_red_pred })\n",
    "logit_result.head(5)"
   ]
  },
  {
   "cell_type": "code",
   "execution_count": 104,
   "metadata": {},
   "outputs": [
    {
     "name": "stdout",
     "output_type": "stream",
     "text": [
      "Confusion Matrix (Accuracy 0.8641)\n",
      "\n",
      "       Prediction\n",
      "Actual    0    1\n",
      "     0 8298   22\n",
      "     1 1290   45\n",
      "Confusion Matrix (Accuracy 0.8666)\n",
      "\n",
      "       Prediction\n",
      "Actual    0    1\n",
      "     0 5553   12\n",
      "     1  847   26\n"
     ]
    }
   ],
   "source": [
    "# Confusion matrix on selected variables.\n",
    "classificationSummary(train_y, logit_reg.predict(train_X))\n",
    "classificationSummary(valid_y, logit_reg.predict(valid_X))"
   ]
  },
  {
   "cell_type": "code",
   "execution_count": 105,
   "metadata": {},
   "outputs": [
    {
     "data": {
      "image/png": "[encoded data removed]",
      "text/plain": [
       "<Figure size 720x288 with 2 Axes>"
      ]
     },
     "metadata": {
      "needs_background": "light"
     },
     "output_type": "display_data"
    }
   ],
   "source": [
    "#Lift and gains chart on selected variables on Validation dataset\n",
    "logit_red_pred = logit_reg.predict(valid_X)\n",
    "logit_red_proba = logit_reg.predict_proba(valid_X)\n",
    "logit_result = pd.DataFrame({'actual': valid_y, \n",
    "                             'p(0)': [p[0] for p in logit_red_proba],\n",
    "                             'p(1)': [p[1] for p in logit_red_proba],\n",
    "                             'predicted': logit_red_pred })\n",
    "\n",
    "df = logit_result.sort_values(by=['p(1)'], ascending=False)\n",
    "fig, axes = plt.subplots(nrows=1, ncols=2, figsize=(10, 4))\n",
    "\n",
    "gainsChart(df.actual, ax=axes[0])\n",
    "liftChart(df['p(1)'], title=False, ax=axes[1])\n",
    "    \n",
    "plt.tight_layout()\n",
    "plt.show()"
   ]
  },
  {
   "cell_type": "code",
   "execution_count": 106,
   "metadata": {},
   "outputs": [
    {
     "name": "stdout",
     "output_type": "stream",
     "text": [
      "                              feature  importance       std\n",
      "6                            LATITUDE    0.106747  0.015133\n",
      "7                           LONGITUDE    0.102694  0.014016\n",
      "4                              MINUTE    0.089008  0.011739\n",
      "2                                 DAY    0.083875  0.011680\n",
      "8                             Hood_ID    0.083282  0.012778\n",
      "0                                YEAR    0.074619  0.010864\n",
      "3                                HOUR    0.072685  0.010382\n",
      "1                               MONTH    0.067237  0.010651\n",
      "5                             WEEKDAY    0.053878  0.009404\n",
      "16                          PASSENGER    0.018511  0.005636\n",
      "9                          PEDESTRIAN    0.018004  0.006016\n",
      "18                            AG_DRIV    0.016984  0.005193\n",
      "13                              TRUCK    0.015952  0.005428\n",
      "17                           SPEEDING    0.015120  0.005789\n",
      "39                         LIGHT_Dark    0.013266  0.005300\n",
      "43                     LIGHT_Daylight    0.012700  0.005209\n",
      "11                         AUTOMOBILE    0.010788  0.004172\n",
      "30                       RDSFCOND_Dry    0.010399  0.003832\n",
      "14                      TRSN_CITY_VEH    0.009800  0.004406\n",
      "40             LIGHT_Dark, artificial    0.009327  0.003611\n",
      "38                       RDSFCOND_Wet    0.009037  0.003489\n",
      "49                DISTRICT_North York    0.008949  0.003884\n",
      "19                           REDLIGHT    0.008302  0.003467\n",
      "22                   VISIBILITY_Clear    0.008171  0.003341\n",
      "51     DISTRICT_Toronto and East York    0.007351  0.003369\n",
      "48            DISTRICT_Etobicoke York    0.006979  0.003304\n",
      "20                            ALCOHOL    0.006764  0.003419\n",
      "27                    VISIBILITY_Rain    0.006752  0.003093\n",
      "50               DISTRICT_Scarborough    0.006438  0.003602\n",
      "12                         MOTORCYCLE    0.006374  0.002830\n",
      "10                            CYCLIST    0.005918  0.002734\n",
      "21                         DISABILITY    0.005496  0.002877\n",
      "34                     RDSFCOND_Other    0.004490  0.002824\n",
      "26                   VISIBILITY_Other    0.004157  0.002758\n",
      "45                         LIGHT_Dusk    0.003624  0.002396\n",
      "28                    VISIBILITY_Snow    0.002438  0.001840\n",
      "42             LIGHT_Dawn, artificial    0.002124  0.001571\n",
      "46             LIGHT_Dusk, artificial    0.001947  0.001531\n",
      "41                         LIGHT_Dawn    0.001505  0.001392\n",
      "33                RDSFCOND_Loose Snow    0.001502  0.001360\n",
      "24  VISIBILITY_Fog, Mist, Smoke, Dust    0.001423  0.001589\n",
      "44         LIGHT_Daylight, artificial    0.001299  0.001239\n",
      "35               RDSFCOND_Packed Snow    0.001237  0.001262\n",
      "36                     RDSFCOND_Slush    0.000906  0.001155\n",
      "25           VISIBILITY_Freezing Rain    0.000815  0.000993\n",
      "31                       RDSFCOND_Ice    0.000543  0.000760\n",
      "47                        LIGHT_Other    0.000421  0.000825\n",
      "15                          EMERG_VEH    0.000063  0.000255\n",
      "23           VISIBILITY_Drifting Snow    0.000054  0.000218\n",
      "29             VISIBILITY_Strong wind    0.000021  0.000136\n",
      "32      RDSFCOND_Loose Sand or Gravel    0.000020  0.000126\n",
      "37            RDSFCOND_Spilled liquid    0.000006  0.000066\n"
     ]
    },
    {
     "data": {
      "image/png": "[encoded data removed]",
      "text/plain": [
       "<Figure size 432x288 with 1 Axes>"
      ]
     },
     "metadata": {
      "needs_background": "light"
     },
     "output_type": "display_data"
    }
   ],
   "source": [
    "#Random Forest Classifier to know about best variables\n",
    "rf = RandomForestClassifier(n_estimators=500, random_state=1)\n",
    "rf.fit(train_X, train_y)\n",
    "\n",
    "importances = rf.feature_importances_\n",
    "std = np.std([tree.feature_importances_ for tree in rf.estimators_], axis=0)\n",
    "\n",
    "df = pd.DataFrame({'feature': train_X.columns, 'importance': importances, 'std': std})\n",
    "df = df.sort_values('importance',ascending=False)\n",
    "print(df)\n",
    "\n",
    "ax = df.plot(kind='barh', xerr='std', x='feature', legend=False)\n",
    "ax.set_ylabel('')\n",
    "\n",
    "plt.tight_layout()\n",
    "plt.show()"
   ]
  },
  {
   "cell_type": "code",
   "execution_count": 107,
   "metadata": {},
   "outputs": [],
   "source": [
    "#creating a copy to test with a lower threshold this time.\n",
    "df2=df1\n"
   ]
  },
  {
   "cell_type": "code",
   "execution_count": 108,
   "metadata": {},
   "outputs": [],
   "source": [
    "X1=df2.drop(['FATAL'],axis=1)\n",
    "y1=df2['FATAL']"
   ]
  },
  {
   "cell_type": "code",
   "execution_count": 109,
   "metadata": {},
   "outputs": [],
   "source": [
    "# Splitting the data into 60% training and 40% testing\n",
    "train_X1, valid_X1, train_y1, valid_y1 = train_test_split(X1, y1, test_size=0.4, random_state=1)"
   ]
  },
  {
   "cell_type": "code",
   "execution_count": 110,
   "metadata": {},
   "outputs": [
    {
     "data": {
      "text/plain": [
       "Index(['YEAR', 'MONTH', 'DAY', 'HOUR', 'MINUTE', 'WEEKDAY', 'LATITUDE',\n",
       "       'LONGITUDE', 'Hood_ID', 'PEDESTRIAN', 'CYCLIST', 'AUTOMOBILE',\n",
       "       'MOTORCYCLE', 'TRUCK', 'TRSN_CITY_VEH', 'EMERG_VEH', 'PASSENGER',\n",
       "       'SPEEDING', 'AG_DRIV', 'REDLIGHT', 'ALCOHOL', 'DISABILITY',\n",
       "       'VISIBILITY_Clear', 'VISIBILITY_Drifting Snow',\n",
       "       'VISIBILITY_Fog, Mist, Smoke, Dust', 'VISIBILITY_Freezing Rain',\n",
       "       'VISIBILITY_Other', 'VISIBILITY_Rain', 'VISIBILITY_Snow',\n",
       "       'VISIBILITY_Strong wind', 'RDSFCOND_Dry', 'RDSFCOND_Ice',\n",
       "       'RDSFCOND_Loose Sand or Gravel', 'RDSFCOND_Loose Snow',\n",
       "       'RDSFCOND_Other', 'RDSFCOND_Packed Snow', 'RDSFCOND_Slush',\n",
       "       'RDSFCOND_Spilled liquid', 'RDSFCOND_Wet', 'LIGHT_Dark',\n",
       "       'LIGHT_Dark, artificial', 'LIGHT_Dawn', 'LIGHT_Dawn, artificial',\n",
       "       'LIGHT_Daylight', 'LIGHT_Daylight, artificial', 'LIGHT_Dusk',\n",
       "       'LIGHT_Dusk, artificial', 'LIGHT_Other', 'DISTRICT_Etobicoke York',\n",
       "       'DISTRICT_North York', 'DISTRICT_Scarborough',\n",
       "       'DISTRICT_Toronto and East York'],\n",
       "      dtype='object')"
      ]
     },
     "execution_count": 110,
     "metadata": {},
     "output_type": "execute_result"
    }
   ],
   "source": [
    "train_X1.columns"
   ]
  },
  {
   "cell_type": "code",
   "execution_count": 111,
   "metadata": {},
   "outputs": [
    {
     "name": "stdout",
     "output_type": "stream",
     "text": [
      "intercept  -0.009726303031814591\n",
      "          YEAR     MONTH       DAY      HOUR    MINUTE   WEEKDAY  LATITUDE  \\\n",
      "coeff  0.03017  0.000037  0.003218 -0.016689  0.003874 -0.016825 -0.403068   \n",
      "\n",
      "       LONGITUDE  Hood_ID  PEDESTRIAN  ...  LIGHT_Dawn, artificial  \\\n",
      "coeff   0.563198 -0.00158    0.892079  ...                0.084328   \n",
      "\n",
      "       LIGHT_Daylight  LIGHT_Daylight, artificial  LIGHT_Dusk  \\\n",
      "coeff       -0.253991                    -0.19819    0.297977   \n",
      "\n",
      "       LIGHT_Dusk, artificial  LIGHT_Other  DISTRICT_Etobicoke York  \\\n",
      "coeff               -0.145439     0.094318                 0.041146   \n",
      "\n",
      "       DISTRICT_North York  DISTRICT_Scarborough  \\\n",
      "coeff              0.05727              0.313404   \n",
      "\n",
      "       DISTRICT_Toronto and East York  \n",
      "coeff                        -0.48449  \n",
      "\n",
      "[1 rows x 52 columns]\n",
      "\n",
      "AIC 5410.805335331348\n"
     ]
    }
   ],
   "source": [
    "# fit a logistic regression (set penalty=l2 and Cv=3) on Selected variables on validation dataset\n",
    "\n",
    "logit_reg = LogisticRegressionCV(penalty=\"l2\", solver='liblinear', cv=3)\n",
    "logit_reg.fit(train_X1, train_y1)\n",
    "\n",
    "print('intercept ', logit_reg.intercept_[0])\n",
    "print(pd.DataFrame({'coeff': logit_reg.coef_[0]}, index=X1.columns).transpose())\n",
    "print()\n",
    "print('AIC', AIC_score(valid_y1, logit_reg.predict(valid_X1), df = len(train_X1.columns) + 1))"
   ]
  },
  {
   "cell_type": "code",
   "execution_count": 112,
   "metadata": {},
   "outputs": [
    {
     "data": {
      "text/html": [
       "<div>\n",
       "<style scoped>\n",
       "    .dataframe tbody tr th:only-of-type {\n",
       "        vertical-align: middle;\n",
       "    }\n",
       "\n",
       "    .dataframe tbody tr th {\n",
       "        vertical-align: top;\n",
       "    }\n",
       "\n",
       "    .dataframe thead th {\n",
       "        text-align: right;\n",
       "    }\n",
       "</style>\n",
       "<table border=\"1\" class=\"dataframe\">\n",
       "  <thead>\n",
       "    <tr style=\"text-align: right;\">\n",
       "      <th></th>\n",
       "      <th>actual</th>\n",
       "      <th>p(0)</th>\n",
       "      <th>p(1)</th>\n",
       "      <th>predicted</th>\n",
       "    </tr>\n",
       "  </thead>\n",
       "  <tbody>\n",
       "    <tr>\n",
       "      <th>5633</th>\n",
       "      <td>0</td>\n",
       "      <td>0.891551</td>\n",
       "      <td>0.108449</td>\n",
       "      <td>0</td>\n",
       "    </tr>\n",
       "    <tr>\n",
       "      <th>3745</th>\n",
       "      <td>1</td>\n",
       "      <td>0.787634</td>\n",
       "      <td>0.212366</td>\n",
       "      <td>0</td>\n",
       "    </tr>\n",
       "    <tr>\n",
       "      <th>3497</th>\n",
       "      <td>0</td>\n",
       "      <td>0.902270</td>\n",
       "      <td>0.097730</td>\n",
       "      <td>0</td>\n",
       "    </tr>\n",
       "    <tr>\n",
       "      <th>2305</th>\n",
       "      <td>0</td>\n",
       "      <td>0.825789</td>\n",
       "      <td>0.174211</td>\n",
       "      <td>0</td>\n",
       "    </tr>\n",
       "    <tr>\n",
       "      <th>14492</th>\n",
       "      <td>1</td>\n",
       "      <td>0.790908</td>\n",
       "      <td>0.209092</td>\n",
       "      <td>0</td>\n",
       "    </tr>\n",
       "  </tbody>\n",
       "</table>\n",
       "</div>"
      ],
      "text/plain": [
       "       actual      p(0)      p(1)  predicted\n",
       "5633        0  0.891551  0.108449          0\n",
       "3745        1  0.787634  0.212366          0\n",
       "3497        0  0.902270  0.097730          0\n",
       "2305        0  0.825789  0.174211          0\n",
       "14492       1  0.790908  0.209092          0"
      ]
     },
     "execution_count": 112,
     "metadata": {},
     "output_type": "execute_result"
    }
   ],
   "source": [
    "#Predict to get probablities on selected variables on validation dataset\n",
    "\n",
    "logit_red_pred = logit_reg.predict(valid_X1)\n",
    "logit_red_proba = logit_reg.predict_proba(valid_X1)\n",
    "\n",
    "logit_result = pd.DataFrame({'actual': valid_y1, \n",
    "                             'p(0)': [p[0] for p in logit_red_proba],\n",
    "                             'p(1)': [p[1] for p in logit_red_proba],\n",
    "                             'predicted': logit_red_pred })\n",
    "logit_result.head(5)\n",
    "\n"
   ]
  },
  {
   "cell_type": "code",
   "execution_count": 113,
   "metadata": {},
   "outputs": [
    {
     "name": "stdout",
     "output_type": "stream",
     "text": [
      "Confusion Matrix (Accuracy 0.8215)\n",
      "\n",
      "       Prediction\n",
      "Actual    0    1\n",
      "     0 5089  476\n",
      "     1  673  200\n",
      "None\n"
     ]
    }
   ],
   "source": [
    "#Classification summary\n",
    "print(classificationSummary(valid_y1, (logit_red_proba[:, 1] > 0.25).astype(np.int64)))"
   ]
  },
  {
   "cell_type": "code",
   "execution_count": 114,
   "metadata": {},
   "outputs": [
    {
     "data": {
      "text/html": [
       "<div>\n",
       "<style scoped>\n",
       "    .dataframe tbody tr th:only-of-type {\n",
       "        vertical-align: middle;\n",
       "    }\n",
       "\n",
       "    .dataframe tbody tr th {\n",
       "        vertical-align: top;\n",
       "    }\n",
       "\n",
       "    .dataframe thead th {\n",
       "        text-align: right;\n",
       "    }\n",
       "</style>\n",
       "<table border=\"1\" class=\"dataframe\">\n",
       "  <thead>\n",
       "    <tr style=\"text-align: right;\">\n",
       "      <th></th>\n",
       "      <th>actual</th>\n",
       "      <th>p(0)</th>\n",
       "      <th>p(1)</th>\n",
       "      <th>predicted</th>\n",
       "    </tr>\n",
       "  </thead>\n",
       "  <tbody>\n",
       "    <tr>\n",
       "      <th>293</th>\n",
       "      <td>1</td>\n",
       "      <td>0.879639</td>\n",
       "      <td>0.120361</td>\n",
       "      <td>0</td>\n",
       "    </tr>\n",
       "    <tr>\n",
       "      <th>4691</th>\n",
       "      <td>0</td>\n",
       "      <td>0.946109</td>\n",
       "      <td>0.053891</td>\n",
       "      <td>0</td>\n",
       "    </tr>\n",
       "    <tr>\n",
       "      <th>15518</th>\n",
       "      <td>1</td>\n",
       "      <td>0.703281</td>\n",
       "      <td>0.296719</td>\n",
       "      <td>0</td>\n",
       "    </tr>\n",
       "    <tr>\n",
       "      <th>9973</th>\n",
       "      <td>0</td>\n",
       "      <td>0.847296</td>\n",
       "      <td>0.152704</td>\n",
       "      <td>0</td>\n",
       "    </tr>\n",
       "    <tr>\n",
       "      <th>60</th>\n",
       "      <td>1</td>\n",
       "      <td>0.643455</td>\n",
       "      <td>0.356545</td>\n",
       "      <td>0</td>\n",
       "    </tr>\n",
       "  </tbody>\n",
       "</table>\n",
       "</div>"
      ],
      "text/plain": [
       "       actual      p(0)      p(1)  predicted\n",
       "293         1  0.879639  0.120361          0\n",
       "4691        0  0.946109  0.053891          0\n",
       "15518       1  0.703281  0.296719          0\n",
       "9973        0  0.847296  0.152704          0\n",
       "60          1  0.643455  0.356545          0"
      ]
     },
     "execution_count": 114,
     "metadata": {},
     "output_type": "execute_result"
    }
   ],
   "source": [
    "#Predict to get probablities on selected variables on Training dataset\n",
    "\n",
    "logit_red_pred = logit_reg.predict(train_X1)\n",
    "logit_red_proba = logit_reg.predict_proba(train_X1)\n",
    "\n",
    "logit_result = pd.DataFrame({'actual': train_y1, \n",
    "                             'p(0)': [p[0] for p in logit_red_proba],\n",
    "                             'p(1)': [p[1] for p in logit_red_proba],\n",
    "                             'predicted': logit_red_pred })\n",
    "logit_result.head(5)\n",
    "\n"
   ]
  },
  {
   "cell_type": "code",
   "execution_count": 115,
   "metadata": {},
   "outputs": [
    {
     "name": "stdout",
     "output_type": "stream",
     "text": [
      "Confusion Matrix (Accuracy 0.8281)\n",
      "\n",
      "       Prediction\n",
      "Actual    0    1\n",
      "     0 7664  656\n",
      "     1 1004  331\n",
      "None\n"
     ]
    }
   ],
   "source": [
    "# Classification summary for training datset.\n",
    "print(classificationSummary(train_y1, (logit_red_proba[:, 1] > 0.25).astype(np.int64)))"
   ]
  },
  {
   "cell_type": "code",
   "execution_count": 116,
   "metadata": {},
   "outputs": [
    {
     "data": {
      "image/png": "[encoded data removed]",
      "text/plain": [
       "<Figure size 720x288 with 2 Axes>"
      ]
     },
     "metadata": {
      "needs_background": "light"
     },
     "output_type": "display_data"
    }
   ],
   "source": [
    "#Lift and gains chart on selected variables on Validation dataset\n",
    "logit_red_pred = logit_reg.predict(valid_X1)\n",
    "logit_red_proba = logit_reg.predict_proba(valid_X1)\n",
    "logit_result = pd.DataFrame({'actual': valid_y1, \n",
    "                             'p(0)': [p[0] for p in logit_red_proba],\n",
    "                             'p(1)': [p[1] for p in logit_red_proba],\n",
    "                             'predicted': logit_red_pred })\n",
    "\n",
    "df = logit_result.sort_values(by=['p(1)'], ascending=False)\n",
    "fig, axes = plt.subplots(nrows=1, ncols=2, figsize=(10, 4))\n",
    "\n",
    "gainsChart(df.actual, ax=axes[0])\n",
    "liftChart(df['p(1)'], title=False, ax=axes[1])\n",
    "    \n",
    "plt.tight_layout()\n",
    "plt.show()"
   ]
  },
  {
   "cell_type": "code",
   "execution_count": 117,
   "metadata": {},
   "outputs": [
    {
     "name": "stdout",
     "output_type": "stream",
     "text": [
      "Variables: YEAR, MONTH, DAY, HOUR, MINUTE, WEEKDAY, LATITUDE, LONGITUDE, Hood_ID, PEDESTRIAN, CYCLIST, AUTOMOBILE, MOTORCYCLE, TRUCK, TRSN_CITY_VEH, EMERG_VEH, PASSENGER, SPEEDING, AG_DRIV, REDLIGHT, ALCOHOL, DISABILITY, VISIBILITY_Clear, VISIBILITY_Drifting Snow, VISIBILITY_Fog, Mist, Smoke, Dust, VISIBILITY_Freezing Rain, VISIBILITY_Other, VISIBILITY_Rain, VISIBILITY_Snow, VISIBILITY_Strong wind, RDSFCOND_Dry, RDSFCOND_Ice, RDSFCOND_Loose Sand or Gravel, RDSFCOND_Loose Snow, RDSFCOND_Other, RDSFCOND_Packed Snow, RDSFCOND_Slush, RDSFCOND_Spilled liquid, RDSFCOND_Wet, LIGHT_Dark, LIGHT_Dark, artificial, LIGHT_Dawn, LIGHT_Dawn, artificial, LIGHT_Daylight, LIGHT_Daylight, artificial, LIGHT_Dusk, LIGHT_Dusk, artificial, LIGHT_Other, DISTRICT_Etobicoke York, DISTRICT_North York, DISTRICT_Scarborough, DISTRICT_Toronto and East York\n",
      "Start: score=6864.06, constant\n",
      "Step: score=6739.91, add TRUCK\n",
      "Step: score=6620.41, add PEDESTRIAN\n",
      "Step: score=6500.53, add SPEEDING\n",
      "Step: score=6432.52, add DISTRICT_Toronto and East York\n",
      "Step: score=6375.27, add TRSN_CITY_VEH\n",
      "Step: score=6329.21, add VISIBILITY_Other\n",
      "Step: score=6298.14, add LIGHT_Dark\n",
      "Step: score=6273.03, add AG_DRIV\n",
      "Step: score=6253.09, add YEAR\n",
      "Step: score=6242.67, add DISTRICT_Scarborough\n",
      "Step: score=6233.13, add HOUR\n",
      "Step: score=6223.60, add RDSFCOND_Ice\n",
      "Step: score=6214.98, add RDSFCOND_Other\n",
      "Step: score=6208.44, add REDLIGHT\n",
      "Step: score=6204.23, add LIGHT_Dusk\n",
      "Step: score=6199.84, add MOTORCYCLE\n",
      "Step: score=6194.72, add PASSENGER\n",
      "Step: score=6192.44, add VISIBILITY_Snow\n",
      "Step: score=6190.33, add MINUTE\n",
      "Step: score=6188.73, add DISABILITY\n",
      "Step: score=6187.33, add VISIBILITY_Fog, Mist, Smoke, Dust\n",
      "Step: score=6186.51, add LIGHT_Other\n",
      "Step: score=6186.22, add LONGITUDE\n",
      "Step: score=6182.72, add DISTRICT_Etobicoke York\n",
      "Step: score=6182.62, add VISIBILITY_Rain\n",
      "Step: score=6174.92, add VISIBILITY_Clear\n",
      "Step: score=6166.62, add VISIBILITY_Freezing Rain\n",
      "Step: score=6150.66, add VISIBILITY_Drifting Snow\n",
      "Step: score=6130.17, add VISIBILITY_Strong wind\n",
      "Step: score=6130.17, add None\n"
     ]
    }
   ],
   "source": [
    "#Forward selection for variable selection\n",
    "# The initial model is the constant model - this requires special handling\n",
    "# in train_model and score_model\n",
    "def train_model(variables):\n",
    "    if len(variables) == 0:\n",
    "        return None\n",
    "    model = LinearRegression()\n",
    "    model.fit(train_X[variables], train_y)\n",
    "    return model\n",
    "\n",
    "def score_model(model, variables):\n",
    "    if len(variables) == 0:\n",
    "        return AIC_score(train_y, [train_y.mean()] * len(train_y), model, df=1)\n",
    "    return AIC_score(train_y, model.predict(train_X[variables]), model)\n",
    "\n",
    "best_model, best_variables = forward_selection(train_X.columns, train_model, score_model, verbose=True)\n"
   ]
  },
  {
   "cell_type": "code",
   "execution_count": 118,
   "metadata": {},
   "outputs": [
    {
     "name": "stdout",
     "output_type": "stream",
     "text": [
      "Variables: YEAR, MONTH, DAY, HOUR, MINUTE, WEEKDAY, LATITUDE, LONGITUDE, Hood_ID, PEDESTRIAN, CYCLIST, AUTOMOBILE, MOTORCYCLE, TRUCK, TRSN_CITY_VEH, EMERG_VEH, PASSENGER, SPEEDING, AG_DRIV, REDLIGHT, ALCOHOL, DISABILITY, VISIBILITY_Clear, VISIBILITY_Drifting Snow, VISIBILITY_Fog, Mist, Smoke, Dust, VISIBILITY_Freezing Rain, VISIBILITY_Other, VISIBILITY_Rain, VISIBILITY_Snow, VISIBILITY_Strong wind, RDSFCOND_Dry, RDSFCOND_Ice, RDSFCOND_Loose Sand or Gravel, RDSFCOND_Loose Snow, RDSFCOND_Other, RDSFCOND_Packed Snow, RDSFCOND_Slush, RDSFCOND_Spilled liquid, RDSFCOND_Wet, LIGHT_Dark, LIGHT_Dark, artificial, LIGHT_Dawn, LIGHT_Dawn, artificial, LIGHT_Daylight, LIGHT_Daylight, artificial, LIGHT_Dusk, LIGHT_Dusk, artificial, LIGHT_Other, DISTRICT_Etobicoke York, DISTRICT_North York, DISTRICT_Scarborough, DISTRICT_Toronto and East York\n",
      "Start: score=6864.06, constant\n",
      "Step: score=6739.91, add TRUCK\n",
      "Step: score=6620.41, add PEDESTRIAN\n",
      "Step: score=6500.53, add SPEEDING\n",
      "Step: score=6432.52, add DISTRICT_Toronto and East York\n",
      "Step: score=6375.27, add TRSN_CITY_VEH\n",
      "Step: score=6329.21, add VISIBILITY_Other\n",
      "Step: score=6298.14, add LIGHT_Dark\n",
      "Step: score=6273.03, add AG_DRIV\n",
      "Step: score=6253.09, add YEAR\n",
      "Step: score=6242.67, add DISTRICT_Scarborough\n",
      "Step: score=6233.13, add HOUR\n",
      "Step: score=6223.60, add RDSFCOND_Ice\n",
      "Step: score=6214.98, add RDSFCOND_Other\n",
      "Step: score=6208.44, add REDLIGHT\n",
      "Step: score=6204.23, add LIGHT_Dusk\n",
      "Step: score=6199.84, add MOTORCYCLE\n",
      "Step: score=6194.72, add PASSENGER\n",
      "Step: score=6192.44, add VISIBILITY_Snow\n",
      "Step: score=6190.33, add MINUTE\n",
      "Step: score=6188.73, add DISABILITY\n",
      "Step: score=6187.33, add VISIBILITY_Fog, Mist, Smoke, Dust\n",
      "Step: score=6186.51, add LIGHT_Other\n",
      "Step: score=6186.22, add LONGITUDE\n",
      "Step: score=6182.72, add DISTRICT_Etobicoke York\n",
      "Step: score=6182.62, add VISIBILITY_Rain\n",
      "Step: score=6174.92, add VISIBILITY_Clear\n",
      "Step: score=6166.62, add VISIBILITY_Freezing Rain\n",
      "Step: score=6150.66, add VISIBILITY_Drifting Snow\n",
      "Step: score=6130.17, add VISIBILITY_Strong wind\n",
      "Step: score=6130.17, unchanged None\n",
      "['TRUCK', 'PEDESTRIAN', 'SPEEDING', 'DISTRICT_Toronto and East York', 'TRSN_CITY_VEH', 'VISIBILITY_Other', 'LIGHT_Dark', 'AG_DRIV', 'YEAR', 'DISTRICT_Scarborough', 'HOUR', 'RDSFCOND_Ice', 'RDSFCOND_Other', 'REDLIGHT', 'LIGHT_Dusk', 'MOTORCYCLE', 'PASSENGER', 'VISIBILITY_Snow', 'MINUTE', 'DISABILITY', 'VISIBILITY_Fog, Mist, Smoke, Dust', 'LIGHT_Other', 'LONGITUDE', 'DISTRICT_Etobicoke York', 'VISIBILITY_Rain', 'VISIBILITY_Clear', 'VISIBILITY_Freezing Rain', 'VISIBILITY_Drifting Snow', 'VISIBILITY_Strong wind']\n"
     ]
    }
   ],
   "source": [
    "#Stepwise regression\n",
    "best_model, best_variables = stepwise_selection(train_X.columns, train_model, score_model, verbose=True)\n",
    "\n",
    "print(best_variables)"
   ]
  },
  {
   "cell_type": "code",
   "execution_count": 119,
   "metadata": {},
   "outputs": [
    {
     "data": {
      "text/html": [
       "<div>\n",
       "<style scoped>\n",
       "    .dataframe tbody tr th:only-of-type {\n",
       "        vertical-align: middle;\n",
       "    }\n",
       "\n",
       "    .dataframe tbody tr th {\n",
       "        vertical-align: top;\n",
       "    }\n",
       "\n",
       "    .dataframe thead th {\n",
       "        text-align: right;\n",
       "    }\n",
       "</style>\n",
       "<table border=\"1\" class=\"dataframe\">\n",
       "  <thead>\n",
       "    <tr style=\"text-align: right;\">\n",
       "      <th></th>\n",
       "      <th>TRUCK</th>\n",
       "      <th>YEAR</th>\n",
       "      <th>PEDESTRIAN</th>\n",
       "      <th>SPEEDING</th>\n",
       "      <th>DISTRICT_Toronto and East York</th>\n",
       "      <th>TRSN_CITY_VEH</th>\n",
       "      <th>VISIBILITY_Other</th>\n",
       "      <th>LIGHT_Dark</th>\n",
       "      <th>AG_DRIV</th>\n",
       "      <th>DISTRICT_Scarborough</th>\n",
       "      <th>...</th>\n",
       "      <th>LONGITUDE</th>\n",
       "      <th>DISTRICT_Etobicoke York</th>\n",
       "      <th>VISIBILITY_Rain</th>\n",
       "      <th>VISIBILITY_Clear</th>\n",
       "      <th>VISIBILITY_Freezing Rain</th>\n",
       "      <th>VISIBILITY_Clear</th>\n",
       "      <th>VISIBILITY_Freezing Rain</th>\n",
       "      <th>VISIBILITY_Drifting Snow</th>\n",
       "      <th>VISIBILITY_Strong wind</th>\n",
       "      <th>FATAL</th>\n",
       "    </tr>\n",
       "  </thead>\n",
       "  <tbody>\n",
       "    <tr>\n",
       "      <th>0</th>\n",
       "      <td>0</td>\n",
       "      <td>2006</td>\n",
       "      <td>0</td>\n",
       "      <td>1</td>\n",
       "      <td>1</td>\n",
       "      <td>0</td>\n",
       "      <td>0</td>\n",
       "      <td>1</td>\n",
       "      <td>1</td>\n",
       "      <td>0</td>\n",
       "      <td>...</td>\n",
       "      <td>-79.318797</td>\n",
       "      <td>0</td>\n",
       "      <td>0</td>\n",
       "      <td>1</td>\n",
       "      <td>0</td>\n",
       "      <td>1</td>\n",
       "      <td>0</td>\n",
       "      <td>0</td>\n",
       "      <td>0</td>\n",
       "      <td>0</td>\n",
       "    </tr>\n",
       "    <tr>\n",
       "      <th>1</th>\n",
       "      <td>0</td>\n",
       "      <td>2006</td>\n",
       "      <td>0</td>\n",
       "      <td>1</td>\n",
       "      <td>1</td>\n",
       "      <td>0</td>\n",
       "      <td>0</td>\n",
       "      <td>1</td>\n",
       "      <td>1</td>\n",
       "      <td>0</td>\n",
       "      <td>...</td>\n",
       "      <td>-79.318797</td>\n",
       "      <td>0</td>\n",
       "      <td>0</td>\n",
       "      <td>1</td>\n",
       "      <td>0</td>\n",
       "      <td>1</td>\n",
       "      <td>0</td>\n",
       "      <td>0</td>\n",
       "      <td>0</td>\n",
       "      <td>0</td>\n",
       "    </tr>\n",
       "    <tr>\n",
       "      <th>2</th>\n",
       "      <td>0</td>\n",
       "      <td>2006</td>\n",
       "      <td>0</td>\n",
       "      <td>1</td>\n",
       "      <td>1</td>\n",
       "      <td>0</td>\n",
       "      <td>0</td>\n",
       "      <td>1</td>\n",
       "      <td>1</td>\n",
       "      <td>0</td>\n",
       "      <td>...</td>\n",
       "      <td>-79.318797</td>\n",
       "      <td>0</td>\n",
       "      <td>0</td>\n",
       "      <td>1</td>\n",
       "      <td>0</td>\n",
       "      <td>1</td>\n",
       "      <td>0</td>\n",
       "      <td>0</td>\n",
       "      <td>0</td>\n",
       "      <td>0</td>\n",
       "    </tr>\n",
       "    <tr>\n",
       "      <th>3</th>\n",
       "      <td>0</td>\n",
       "      <td>2006</td>\n",
       "      <td>0</td>\n",
       "      <td>1</td>\n",
       "      <td>1</td>\n",
       "      <td>0</td>\n",
       "      <td>0</td>\n",
       "      <td>1</td>\n",
       "      <td>1</td>\n",
       "      <td>0</td>\n",
       "      <td>...</td>\n",
       "      <td>-79.318797</td>\n",
       "      <td>0</td>\n",
       "      <td>0</td>\n",
       "      <td>1</td>\n",
       "      <td>0</td>\n",
       "      <td>1</td>\n",
       "      <td>0</td>\n",
       "      <td>0</td>\n",
       "      <td>0</td>\n",
       "      <td>0</td>\n",
       "    </tr>\n",
       "    <tr>\n",
       "      <th>4</th>\n",
       "      <td>0</td>\n",
       "      <td>2006</td>\n",
       "      <td>0</td>\n",
       "      <td>1</td>\n",
       "      <td>1</td>\n",
       "      <td>0</td>\n",
       "      <td>0</td>\n",
       "      <td>1</td>\n",
       "      <td>1</td>\n",
       "      <td>0</td>\n",
       "      <td>...</td>\n",
       "      <td>-79.318797</td>\n",
       "      <td>0</td>\n",
       "      <td>0</td>\n",
       "      <td>1</td>\n",
       "      <td>0</td>\n",
       "      <td>1</td>\n",
       "      <td>0</td>\n",
       "      <td>0</td>\n",
       "      <td>0</td>\n",
       "      <td>0</td>\n",
       "    </tr>\n",
       "    <tr>\n",
       "      <th>...</th>\n",
       "      <td>...</td>\n",
       "      <td>...</td>\n",
       "      <td>...</td>\n",
       "      <td>...</td>\n",
       "      <td>...</td>\n",
       "      <td>...</td>\n",
       "      <td>...</td>\n",
       "      <td>...</td>\n",
       "      <td>...</td>\n",
       "      <td>...</td>\n",
       "      <td>...</td>\n",
       "      <td>...</td>\n",
       "      <td>...</td>\n",
       "      <td>...</td>\n",
       "      <td>...</td>\n",
       "      <td>...</td>\n",
       "      <td>...</td>\n",
       "      <td>...</td>\n",
       "      <td>...</td>\n",
       "      <td>...</td>\n",
       "      <td>...</td>\n",
       "    </tr>\n",
       "    <tr>\n",
       "      <th>16088</th>\n",
       "      <td>0</td>\n",
       "      <td>2019</td>\n",
       "      <td>1</td>\n",
       "      <td>0</td>\n",
       "      <td>0</td>\n",
       "      <td>0</td>\n",
       "      <td>0</td>\n",
       "      <td>0</td>\n",
       "      <td>1</td>\n",
       "      <td>0</td>\n",
       "      <td>...</td>\n",
       "      <td>-79.516483</td>\n",
       "      <td>1</td>\n",
       "      <td>0</td>\n",
       "      <td>1</td>\n",
       "      <td>0</td>\n",
       "      <td>1</td>\n",
       "      <td>0</td>\n",
       "      <td>0</td>\n",
       "      <td>0</td>\n",
       "      <td>0</td>\n",
       "    </tr>\n",
       "    <tr>\n",
       "      <th>16089</th>\n",
       "      <td>0</td>\n",
       "      <td>2019</td>\n",
       "      <td>1</td>\n",
       "      <td>0</td>\n",
       "      <td>0</td>\n",
       "      <td>0</td>\n",
       "      <td>0</td>\n",
       "      <td>0</td>\n",
       "      <td>1</td>\n",
       "      <td>0</td>\n",
       "      <td>...</td>\n",
       "      <td>-79.516483</td>\n",
       "      <td>1</td>\n",
       "      <td>0</td>\n",
       "      <td>1</td>\n",
       "      <td>0</td>\n",
       "      <td>1</td>\n",
       "      <td>0</td>\n",
       "      <td>0</td>\n",
       "      <td>0</td>\n",
       "      <td>0</td>\n",
       "    </tr>\n",
       "    <tr>\n",
       "      <th>16090</th>\n",
       "      <td>0</td>\n",
       "      <td>2019</td>\n",
       "      <td>1</td>\n",
       "      <td>0</td>\n",
       "      <td>1</td>\n",
       "      <td>0</td>\n",
       "      <td>0</td>\n",
       "      <td>0</td>\n",
       "      <td>1</td>\n",
       "      <td>0</td>\n",
       "      <td>...</td>\n",
       "      <td>-79.384868</td>\n",
       "      <td>0</td>\n",
       "      <td>0</td>\n",
       "      <td>1</td>\n",
       "      <td>0</td>\n",
       "      <td>1</td>\n",
       "      <td>0</td>\n",
       "      <td>0</td>\n",
       "      <td>0</td>\n",
       "      <td>0</td>\n",
       "    </tr>\n",
       "    <tr>\n",
       "      <th>16091</th>\n",
       "      <td>0</td>\n",
       "      <td>2019</td>\n",
       "      <td>1</td>\n",
       "      <td>0</td>\n",
       "      <td>1</td>\n",
       "      <td>0</td>\n",
       "      <td>0</td>\n",
       "      <td>0</td>\n",
       "      <td>1</td>\n",
       "      <td>0</td>\n",
       "      <td>...</td>\n",
       "      <td>-79.384868</td>\n",
       "      <td>0</td>\n",
       "      <td>0</td>\n",
       "      <td>1</td>\n",
       "      <td>0</td>\n",
       "      <td>1</td>\n",
       "      <td>0</td>\n",
       "      <td>0</td>\n",
       "      <td>0</td>\n",
       "      <td>0</td>\n",
       "    </tr>\n",
       "    <tr>\n",
       "      <th>16092</th>\n",
       "      <td>0</td>\n",
       "      <td>2019</td>\n",
       "      <td>1</td>\n",
       "      <td>0</td>\n",
       "      <td>1</td>\n",
       "      <td>0</td>\n",
       "      <td>0</td>\n",
       "      <td>0</td>\n",
       "      <td>1</td>\n",
       "      <td>0</td>\n",
       "      <td>...</td>\n",
       "      <td>-79.384868</td>\n",
       "      <td>0</td>\n",
       "      <td>0</td>\n",
       "      <td>1</td>\n",
       "      <td>0</td>\n",
       "      <td>1</td>\n",
       "      <td>0</td>\n",
       "      <td>0</td>\n",
       "      <td>0</td>\n",
       "      <td>0</td>\n",
       "    </tr>\n",
       "  </tbody>\n",
       "</table>\n",
       "<p>16093 rows × 32 columns</p>\n",
       "</div>"
      ],
      "text/plain": [
       "       TRUCK  YEAR  PEDESTRIAN  SPEEDING  DISTRICT_Toronto and East York  \\\n",
       "0          0  2006           0         1                               1   \n",
       "1          0  2006           0         1                               1   \n",
       "2          0  2006           0         1                               1   \n",
       "3          0  2006           0         1                               1   \n",
       "4          0  2006           0         1                               1   \n",
       "...      ...   ...         ...       ...                             ...   \n",
       "16088      0  2019           1         0                               0   \n",
       "16089      0  2019           1         0                               0   \n",
       "16090      0  2019           1         0                               1   \n",
       "16091      0  2019           1         0                               1   \n",
       "16092      0  2019           1         0                               1   \n",
       "\n",
       "       TRSN_CITY_VEH  VISIBILITY_Other  LIGHT_Dark  AG_DRIV  \\\n",
       "0                  0                 0           1        1   \n",
       "1                  0                 0           1        1   \n",
       "2                  0                 0           1        1   \n",
       "3                  0                 0           1        1   \n",
       "4                  0                 0           1        1   \n",
       "...              ...               ...         ...      ...   \n",
       "16088              0                 0           0        1   \n",
       "16089              0                 0           0        1   \n",
       "16090              0                 0           0        1   \n",
       "16091              0                 0           0        1   \n",
       "16092              0                 0           0        1   \n",
       "\n",
       "       DISTRICT_Scarborough  ...  LONGITUDE  DISTRICT_Etobicoke York  \\\n",
       "0                         0  ... -79.318797                        0   \n",
       "1                         0  ... -79.318797                        0   \n",
       "2                         0  ... -79.318797                        0   \n",
       "3                         0  ... -79.318797                        0   \n",
       "4                         0  ... -79.318797                        0   \n",
       "...                     ...  ...        ...                      ...   \n",
       "16088                     0  ... -79.516483                        1   \n",
       "16089                     0  ... -79.516483                        1   \n",
       "16090                     0  ... -79.384868                        0   \n",
       "16091                     0  ... -79.384868                        0   \n",
       "16092                     0  ... -79.384868                        0   \n",
       "\n",
       "       VISIBILITY_Rain  VISIBILITY_Clear  VISIBILITY_Freezing Rain  \\\n",
       "0                    0                 1                         0   \n",
       "1                    0                 1                         0   \n",
       "2                    0                 1                         0   \n",
       "3                    0                 1                         0   \n",
       "4                    0                 1                         0   \n",
       "...                ...               ...                       ...   \n",
       "16088                0                 1                         0   \n",
       "16089                0                 1                         0   \n",
       "16090                0                 1                         0   \n",
       "16091                0                 1                         0   \n",
       "16092                0                 1                         0   \n",
       "\n",
       "       VISIBILITY_Clear  VISIBILITY_Freezing Rain  VISIBILITY_Drifting Snow  \\\n",
       "0                     1                         0                         0   \n",
       "1                     1                         0                         0   \n",
       "2                     1                         0                         0   \n",
       "3                     1                         0                         0   \n",
       "4                     1                         0                         0   \n",
       "...                 ...                       ...                       ...   \n",
       "16088                 1                         0                         0   \n",
       "16089                 1                         0                         0   \n",
       "16090                 1                         0                         0   \n",
       "16091                 1                         0                         0   \n",
       "16092                 1                         0                         0   \n",
       "\n",
       "       VISIBILITY_Strong wind  FATAL  \n",
       "0                           0      0  \n",
       "1                           0      0  \n",
       "2                           0      0  \n",
       "3                           0      0  \n",
       "4                           0      0  \n",
       "...                       ...    ...  \n",
       "16088                       0      0  \n",
       "16089                       0      0  \n",
       "16090                       0      0  \n",
       "16091                       0      0  \n",
       "16092                       0      0  \n",
       "\n",
       "[16093 rows x 32 columns]"
      ]
     },
     "execution_count": 119,
     "metadata": {},
     "output_type": "execute_result"
    }
   ],
   "source": [
    "#Using the variables that we get from our stepwise regression.\n",
    "new_df=df1[['TRUCK','YEAR','PEDESTRIAN','SPEEDING','DISTRICT_Toronto and East York','TRSN_CITY_VEH','VISIBILITY_Other','LIGHT_Dark','AG_DRIV','DISTRICT_Scarborough','HOUR','RDSFCOND_Ice','RDSFCOND_Other','REDLIGHT','LIGHT_Dusk','MOTORCYCLE','PASSENGER','VISIBILITY_Snow','MINUTE','DISABILITY','VISIBILITY_Fog, Mist, Smoke, Dust','LIGHT_Other','LONGITUDE','DISTRICT_Etobicoke York','VISIBILITY_Rain','VISIBILITY_Clear','VISIBILITY_Freezing Rain','VISIBILITY_Clear','VISIBILITY_Freezing Rain','VISIBILITY_Drifting Snow','VISIBILITY_Strong wind','FATAL']].copy()\n",
    "new_df"
   ]
  },
  {
   "cell_type": "code",
   "execution_count": 120,
   "metadata": {},
   "outputs": [],
   "source": [
    "X2=new_df.drop(['FATAL'],axis=1)\n",
    "y2=new_df['FATAL']"
   ]
  },
  {
   "cell_type": "code",
   "execution_count": 121,
   "metadata": {},
   "outputs": [],
   "source": [
    "# Splitting the data into 60% training and 40% testing\n",
    "train_X2, valid_X2, train_y2, valid_y2 = train_test_split(X2, y2, test_size=0.4, random_state=1)"
   ]
  },
  {
   "cell_type": "code",
   "execution_count": 122,
   "metadata": {},
   "outputs": [
    {
     "name": "stdout",
     "output_type": "stream",
     "text": [
      "intercept  -0.006398097637041183\n",
      "          TRUCK      YEAR  PEDESTRIAN  SPEEDING  \\\n",
      "coeff  0.986963  0.014221    0.806294  0.859174   \n",
      "\n",
      "       DISTRICT_Toronto and East York  TRSN_CITY_VEH  VISIBILITY_Other  \\\n",
      "coeff                       -0.485181       0.644204          0.392793   \n",
      "\n",
      "       LIGHT_Dark   AG_DRIV  DISTRICT_Scarborough  ...  LIGHT_Other  \\\n",
      "coeff    0.428367 -0.364414              0.162741  ...     0.062352   \n",
      "\n",
      "       LONGITUDE  DISTRICT_Etobicoke York  VISIBILITY_Rain  VISIBILITY_Clear  \\\n",
      "coeff   0.386355                 0.044013        -0.246548         -0.107742   \n",
      "\n",
      "       VISIBILITY_Freezing Rain  VISIBILITY_Clear  VISIBILITY_Freezing Rain  \\\n",
      "coeff                  -0.06041         -0.107742                  -0.06041   \n",
      "\n",
      "       VISIBILITY_Drifting Snow  VISIBILITY_Strong wind  \n",
      "coeff                 -0.042508               -0.034464  \n",
      "\n",
      "[1 rows x 31 columns]\n",
      "\n",
      "AIC 5435.907274580046\n"
     ]
    }
   ],
   "source": [
    "# fit a logistic regression (set penalty=l2 and Cv=3) on Selected variables on validation dataset\n",
    "logit_reg = LogisticRegressionCV(penalty=\"l2\", solver='liblinear', cv=3)\n",
    "logit_reg.fit(train_X2, train_y2)\n",
    "\n",
    "print('intercept ', logit_reg.intercept_[0])\n",
    "print(pd.DataFrame({'coeff': logit_reg.coef_[0]}, index=X2.columns).transpose())\n",
    "print()\n",
    "print('AIC', AIC_score(valid_y2, logit_reg.predict(valid_X2), df = len(train_X2.columns) + 1))"
   ]
  },
  {
   "cell_type": "code",
   "execution_count": 123,
   "metadata": {},
   "outputs": [
    {
     "data": {
      "text/html": [
       "<div>\n",
       "<style scoped>\n",
       "    .dataframe tbody tr th:only-of-type {\n",
       "        vertical-align: middle;\n",
       "    }\n",
       "\n",
       "    .dataframe tbody tr th {\n",
       "        vertical-align: top;\n",
       "    }\n",
       "\n",
       "    .dataframe thead th {\n",
       "        text-align: right;\n",
       "    }\n",
       "</style>\n",
       "<table border=\"1\" class=\"dataframe\">\n",
       "  <thead>\n",
       "    <tr style=\"text-align: right;\">\n",
       "      <th></th>\n",
       "      <th>actual</th>\n",
       "      <th>p(0)</th>\n",
       "      <th>p(1)</th>\n",
       "      <th>predicted</th>\n",
       "    </tr>\n",
       "  </thead>\n",
       "  <tbody>\n",
       "    <tr>\n",
       "      <th>5633</th>\n",
       "      <td>0</td>\n",
       "      <td>0.881071</td>\n",
       "      <td>0.118929</td>\n",
       "      <td>0</td>\n",
       "    </tr>\n",
       "    <tr>\n",
       "      <th>3745</th>\n",
       "      <td>1</td>\n",
       "      <td>0.792953</td>\n",
       "      <td>0.207047</td>\n",
       "      <td>0</td>\n",
       "    </tr>\n",
       "    <tr>\n",
       "      <th>3497</th>\n",
       "      <td>0</td>\n",
       "      <td>0.894444</td>\n",
       "      <td>0.105556</td>\n",
       "      <td>0</td>\n",
       "    </tr>\n",
       "    <tr>\n",
       "      <th>2305</th>\n",
       "      <td>0</td>\n",
       "      <td>0.810053</td>\n",
       "      <td>0.189947</td>\n",
       "      <td>0</td>\n",
       "    </tr>\n",
       "    <tr>\n",
       "      <th>14492</th>\n",
       "      <td>1</td>\n",
       "      <td>0.812024</td>\n",
       "      <td>0.187976</td>\n",
       "      <td>0</td>\n",
       "    </tr>\n",
       "  </tbody>\n",
       "</table>\n",
       "</div>"
      ],
      "text/plain": [
       "       actual      p(0)      p(1)  predicted\n",
       "5633        0  0.881071  0.118929          0\n",
       "3745        1  0.792953  0.207047          0\n",
       "3497        0  0.894444  0.105556          0\n",
       "2305        0  0.810053  0.189947          0\n",
       "14492       1  0.812024  0.187976          0"
      ]
     },
     "execution_count": 123,
     "metadata": {},
     "output_type": "execute_result"
    }
   ],
   "source": [
    "#Predict to get probablities on selected variables on validation dataset\n",
    "logit_red_pred = logit_reg.predict(valid_X2)\n",
    "logit_red_proba = logit_reg.predict_proba(valid_X2)\n",
    "logit_result = pd.DataFrame({'actual': valid_y2, \n",
    "                             'p(0)': [p[0] for p in logit_red_proba],\n",
    "                             'p(1)': [p[1] for p in logit_red_proba],\n",
    "                             'predicted': logit_red_pred })\n",
    "logit_result.head(5)"
   ]
  },
  {
   "cell_type": "code",
   "execution_count": 124,
   "metadata": {},
   "outputs": [
    {
     "name": "stdout",
     "output_type": "stream",
     "text": [
      "Confusion Matrix (Accuracy 0.8329)\n",
      "\n",
      "       Prediction\n",
      "Actual    0    1\n",
      "     0 5203  362\n",
      "     1  714  159\n",
      "None\n"
     ]
    }
   ],
   "source": [
    "# Classification summary for training datset.\n",
    "print(classificationSummary(valid_y2, (logit_red_proba[:, 1] > 0.25).astype(np.int64)))"
   ]
  },
  {
   "cell_type": "code",
   "execution_count": 125,
   "metadata": {},
   "outputs": [
    {
     "data": {
      "text/html": [
       "<div>\n",
       "<style scoped>\n",
       "    .dataframe tbody tr th:only-of-type {\n",
       "        vertical-align: middle;\n",
       "    }\n",
       "\n",
       "    .dataframe tbody tr th {\n",
       "        vertical-align: top;\n",
       "    }\n",
       "\n",
       "    .dataframe thead th {\n",
       "        text-align: right;\n",
       "    }\n",
       "</style>\n",
       "<table border=\"1\" class=\"dataframe\">\n",
       "  <thead>\n",
       "    <tr style=\"text-align: right;\">\n",
       "      <th></th>\n",
       "      <th>actual</th>\n",
       "      <th>p(0)</th>\n",
       "      <th>p(1)</th>\n",
       "      <th>predicted</th>\n",
       "    </tr>\n",
       "  </thead>\n",
       "  <tbody>\n",
       "    <tr>\n",
       "      <th>293</th>\n",
       "      <td>1</td>\n",
       "      <td>0.885483</td>\n",
       "      <td>0.114517</td>\n",
       "      <td>0</td>\n",
       "    </tr>\n",
       "    <tr>\n",
       "      <th>4691</th>\n",
       "      <td>0</td>\n",
       "      <td>0.935722</td>\n",
       "      <td>0.064278</td>\n",
       "      <td>0</td>\n",
       "    </tr>\n",
       "    <tr>\n",
       "      <th>15518</th>\n",
       "      <td>1</td>\n",
       "      <td>0.686985</td>\n",
       "      <td>0.313015</td>\n",
       "      <td>0</td>\n",
       "    </tr>\n",
       "    <tr>\n",
       "      <th>9973</th>\n",
       "      <td>0</td>\n",
       "      <td>0.841412</td>\n",
       "      <td>0.158588</td>\n",
       "      <td>0</td>\n",
       "    </tr>\n",
       "    <tr>\n",
       "      <th>60</th>\n",
       "      <td>1</td>\n",
       "      <td>0.698418</td>\n",
       "      <td>0.301582</td>\n",
       "      <td>0</td>\n",
       "    </tr>\n",
       "  </tbody>\n",
       "</table>\n",
       "</div>"
      ],
      "text/plain": [
       "       actual      p(0)      p(1)  predicted\n",
       "293         1  0.885483  0.114517          0\n",
       "4691        0  0.935722  0.064278          0\n",
       "15518       1  0.686985  0.313015          0\n",
       "9973        0  0.841412  0.158588          0\n",
       "60          1  0.698418  0.301582          0"
      ]
     },
     "execution_count": 125,
     "metadata": {},
     "output_type": "execute_result"
    }
   ],
   "source": [
    "#Predict to get probablities on selected variables on validation dataset\n",
    "logit_red_pred = logit_reg.predict(train_X2)\n",
    "logit_red_proba = logit_reg.predict_proba(train_X2)\n",
    "logit_result = pd.DataFrame({'actual': train_y2, \n",
    "                             'p(0)': [p[0] for p in logit_red_proba],\n",
    "                             'p(1)': [p[1] for p in logit_red_proba],\n",
    "                             'predicted': logit_red_pred })\n",
    "logit_result.head(5)"
   ]
  },
  {
   "cell_type": "code",
   "execution_count": 126,
   "metadata": {},
   "outputs": [
    {
     "name": "stdout",
     "output_type": "stream",
     "text": [
      "Confusion Matrix (Accuracy 0.8387)\n",
      "\n",
      "       Prediction\n",
      "Actual    0    1\n",
      "     0 7832  488\n",
      "     1 1069  266\n",
      "None\n"
     ]
    }
   ],
   "source": [
    "# Classification summary for training datset.\n",
    "print(classificationSummary(train_y2, (logit_red_proba[:, 1] > 0.25).astype(np.int64)))"
   ]
  },
  {
   "cell_type": "code",
   "execution_count": 127,
   "metadata": {},
   "outputs": [
    {
     "data": {
      "image/png": "[encoded data removed]",
      "text/plain": [
       "<Figure size 720x288 with 2 Axes>"
      ]
     },
     "metadata": {
      "needs_background": "light"
     },
     "output_type": "display_data"
    }
   ],
   "source": [
    "#Lift and gains chart on selected variables on Validation dataset\n",
    "logit_red_pred = logit_reg.predict(valid_X2)\n",
    "logit_red_proba = logit_reg.predict_proba(valid_X2)\n",
    "logit_result = pd.DataFrame({'actual': valid_y2, \n",
    "                             'p(0)': [p[0] for p in logit_red_proba],\n",
    "                             'p(1)': [p[1] for p in logit_red_proba],\n",
    "                             'predicted': logit_red_pred })\n",
    "\n",
    "df = logit_result.sort_values(by=['p(1)'], ascending=False)\n",
    "fig, axes = plt.subplots(nrows=1, ncols=2, figsize=(10, 4))\n",
    "\n",
    "gainsChart(df.actual, ax=axes[0])\n",
    "liftChart(df['p(1)'], title=False, ax=axes[1])\n",
    "    \n",
    "plt.tight_layout()\n",
    "plt.show()"
   ]
  },
  {
   "cell_type": "code",
   "execution_count": 128,
   "metadata": {},
   "outputs": [
    {
     "name": "stdout",
     "output_type": "stream",
     "text": [
      "                              feature  importance       std\n",
      "22                          LONGITUDE    0.230160  0.016072\n",
      "18                             MINUTE    0.190534  0.016249\n",
      "10                               HOUR    0.152830  0.015283\n",
      "1                                YEAR    0.143700  0.015934\n",
      "16                          PASSENGER    0.030536  0.008073\n",
      "2                          PEDESTRIAN    0.024301  0.010381\n",
      "8                             AG_DRIV    0.023908  0.008510\n",
      "7                          LIGHT_Dark    0.022708  0.008701\n",
      "0                               TRUCK    0.022174  0.007779\n",
      "3                            SPEEDING    0.018174  0.007440\n",
      "4      DISTRICT_Toronto and East York    0.016212  0.007046\n",
      "5                       TRSN_CITY_VEH    0.016160  0.006306\n",
      "23            DISTRICT_Etobicoke York    0.012841  0.004937\n",
      "13                           REDLIGHT    0.012776  0.004262\n",
      "9                DISTRICT_Scarborough    0.012690  0.006237\n",
      "15                         MOTORCYCLE    0.011017  0.003863\n",
      "27                   VISIBILITY_Clear    0.009038  0.003618\n",
      "25                   VISIBILITY_Clear    0.008896  0.003893\n",
      "24                    VISIBILITY_Rain    0.008797  0.003594\n",
      "19                         DISABILITY    0.007994  0.003153\n",
      "12                     RDSFCOND_Other    0.005808  0.003163\n",
      "14                         LIGHT_Dusk    0.005752  0.002768\n",
      "6                    VISIBILITY_Other    0.004474  0.002991\n",
      "17                    VISIBILITY_Snow    0.003827  0.002056\n",
      "20  VISIBILITY_Fog, Mist, Smoke, Dust    0.002007  0.001728\n",
      "11                       RDSFCOND_Ice    0.001071  0.000972\n",
      "28           VISIBILITY_Freezing Rain    0.000517  0.000721\n",
      "26           VISIBILITY_Freezing Rain    0.000473  0.000678\n",
      "21                        LIGHT_Other    0.000464  0.000830\n",
      "29           VISIBILITY_Drifting Snow    0.000101  0.000243\n",
      "30             VISIBILITY_Strong wind    0.000058  0.000171\n"
     ]
    },
    {
     "data": {
      "image/png": "[encoded data removed]",
      "text/plain": [
       "<Figure size 432x288 with 1 Axes>"
      ]
     },
     "metadata": {
      "needs_background": "light"
     },
     "output_type": "display_data"
    }
   ],
   "source": [
    "#Random Forest Classifier to know about best variables\n",
    "rf = RandomForestClassifier(n_estimators=500, random_state=1)\n",
    "rf.fit(train_X2, train_y2)\n",
    "\n",
    "importances = rf.feature_importances_\n",
    "std = np.std([tree.feature_importances_ for tree in rf.estimators_], axis=0)\n",
    "\n",
    "df = pd.DataFrame({'feature': train_X2.columns, 'importance': importances, 'std': std})\n",
    "df = df.sort_values('importance',ascending=False)\n",
    "print(df)\n",
    "df.to_excel (r'new_dataframe.xlsx', index = True, header=True)\n",
    "\n",
    "ax = df.plot(kind='barh', xerr='std', x='feature', legend=False)\n",
    "ax.set_ylabel('')\n",
    "\n",
    "plt.tight_layout()\n",
    "plt.show()"
   ]
  },
  {
   "cell_type": "code",
   "execution_count": 129,
   "metadata": {},
   "outputs": [
    {
     "data": {
      "text/plain": [
       "TRUCK                                0.121895\n",
       "YEAR                                 0.047603\n",
       "PEDESTRIAN                           0.100295\n",
       "SPEEDING                             0.099160\n",
       "DISTRICT_Toronto and East York      -0.078656\n",
       "TRSN_CITY_VEH                        0.062071\n",
       "VISIBILITY_Other                     0.056397\n",
       "LIGHT_Dark                           0.053868\n",
       "AG_DRIV                             -0.027323\n",
       "DISTRICT_Scarborough                 0.065105\n",
       "HOUR                                -0.033988\n",
       "RDSFCOND_Ice                        -0.021544\n",
       "RDSFCOND_Other                       0.052834\n",
       "REDLIGHT                            -0.000476\n",
       "LIGHT_Dusk                           0.010364\n",
       "MOTORCYCLE                          -0.011904\n",
       "PASSENGER                            0.002346\n",
       "VISIBILITY_Snow                     -0.012292\n",
       "MINUTE                               0.023477\n",
       "DISABILITY                          -0.005194\n",
       "VISIBILITY_Fog, Mist, Smoke, Dust    0.003331\n",
       "LIGHT_Other                          0.029719\n",
       "LONGITUDE                            0.025049\n",
       "DISTRICT_Etobicoke York             -0.000035\n",
       "VISIBILITY_Rain                     -0.008644\n",
       "VISIBILITY_Clear                    -0.006379\n",
       "VISIBILITY_Freezing Rain            -0.013643\n",
       "VISIBILITY_Clear                    -0.006379\n",
       "VISIBILITY_Freezing Rain            -0.013643\n",
       "VISIBILITY_Drifting Snow            -0.013710\n",
       "VISIBILITY_Strong wind              -0.008893\n",
       "FATAL                                1.000000\n",
       "Name: FATAL, dtype: float64"
      ]
     },
     "execution_count": 129,
     "metadata": {},
     "output_type": "execute_result"
    }
   ],
   "source": [
    "#correlation of each variable with FATAL\n",
    "corr1 = new_df.corr()['FATAL']\n",
    "corr1"
   ]
  },
  {
   "cell_type": "code",
   "execution_count": 130,
   "metadata": {},
   "outputs": [
    {
     "data": {
      "text/plain": [
       "FATAL                                1.000000e+00\n",
       "TRUCK                                1.485830e-02\n",
       "PEDESTRIAN                           1.005900e-02\n",
       "SPEEDING                             9.832765e-03\n",
       "DISTRICT_Toronto and East York       6.186839e-03\n",
       "DISTRICT_Scarborough                 4.238701e-03\n",
       "TRSN_CITY_VEH                        3.852806e-03\n",
       "VISIBILITY_Other                     3.180678e-03\n",
       "LIGHT_Dark                           2.901754e-03\n",
       "RDSFCOND_Other                       2.791418e-03\n",
       "YEAR                                 2.266051e-03\n",
       "HOUR                                 1.155188e-03\n",
       "LIGHT_Other                          8.832393e-04\n",
       "AG_DRIV                              7.465469e-04\n",
       "LONGITUDE                            6.274704e-04\n",
       "MINUTE                               5.511500e-04\n",
       "RDSFCOND_Ice                         4.641257e-04\n",
       "VISIBILITY_Drifting Snow             1.879675e-04\n",
       "VISIBILITY_Freezing Rain             1.861443e-04\n",
       "VISIBILITY_Freezing Rain             1.861443e-04\n",
       "VISIBILITY_Snow                      1.510901e-04\n",
       "MOTORCYCLE                           1.417051e-04\n",
       "LIGHT_Dusk                           1.074063e-04\n",
       "VISIBILITY_Strong wind               7.909010e-05\n",
       "VISIBILITY_Rain                      7.472220e-05\n",
       "VISIBILITY_Clear                     4.069752e-05\n",
       "VISIBILITY_Clear                     4.069752e-05\n",
       "DISABILITY                           2.697492e-05\n",
       "VISIBILITY_Fog, Mist, Smoke, Dust    1.109588e-05\n",
       "PASSENGER                            5.502588e-06\n",
       "REDLIGHT                             2.261324e-07\n",
       "DISTRICT_Etobicoke York              1.245596e-09\n",
       "Name: FATAL, dtype: float64"
      ]
     },
     "execution_count": 130,
     "metadata": {},
     "output_type": "execute_result"
    }
   ],
   "source": [
    "# Finding partial R-squared for each varaible with respect to FATAL, as R2=correaltion's squares\n",
    "r=corr1**2\n",
    "r.sort_values(ascending=False)"
   ]
  },
  {
   "cell_type": "code",
   "execution_count": 131,
   "metadata": {},
   "outputs": [
    {
     "name": "stdout",
     "output_type": "stream",
     "text": [
      "                 Generalized Linear Model Regression Results                  \n",
      "==============================================================================\n",
      "Dep. Variable:                  FATAL   No. Observations:                 9655\n",
      "Model:                            GLM   Df Residuals:                     9626\n",
      "Model Family:                Gaussian   Df Model:                           28\n",
      "Link Function:               identity   Scale:                         0.11024\n",
      "Method:                          IRLS   Log-Likelihood:                -3040.4\n",
      "Date:                Thu, 06 Aug 2020   Deviance:                       1061.2\n",
      "Time:                        16:37:33   Pearson chi2:                 1.06e+03\n",
      "No. Iterations:                     3                                         \n",
      "Covariance Type:            nonrobust                                         \n",
      "=====================================================================================================\n",
      "                                        coef    std err          z      P>|z|      [0.025      0.975]\n",
      "-----------------------------------------------------------------------------------------------------\n",
      "TRUCK                                 0.1785      0.014     12.434      0.000       0.150       0.207\n",
      "YEAR                                  0.0026      0.001      3.005      0.003       0.001       0.004\n",
      "PEDESTRIAN                            0.1042      0.008     13.130      0.000       0.089       0.120\n",
      "SPEEDING                              0.1237      0.011     11.026      0.000       0.102       0.146\n",
      "DISTRICT_Toronto and East York       -0.0582      0.010     -6.085      0.000      -0.077      -0.039\n",
      "TRSN_CITY_VEH                         0.1093      0.014      7.711      0.000       0.082       0.137\n",
      "VISIBILITY_Other                     -0.5590      0.106     -5.251      0.000      -0.768      -0.350\n",
      "LIGHT_Dark                            0.0598      0.009      6.672      0.000       0.042       0.077\n",
      "AG_DRIV                              -0.0459      0.008     -5.870      0.000      -0.061      -0.031\n",
      "DISTRICT_Scarborough                  0.0204      0.011      1.859      0.063      -0.001       0.042\n",
      "HOUR                                 -0.0020      0.001     -3.559      0.000      -0.003      -0.001\n",
      "RDSFCOND_Ice                         -0.1156      0.052     -2.245      0.025      -0.217      -0.015\n",
      "RDSFCOND_Other                        0.1265      0.044      2.846      0.004       0.039       0.214\n",
      "REDLIGHT                              0.0370      0.013      2.849      0.004       0.012       0.062\n",
      "LIGHT_Dusk                            0.0730      0.029      2.507      0.012       0.016       0.130\n",
      "MOTORCYCLE                            0.0401      0.013      2.994      0.003       0.014       0.066\n",
      "PASSENGER                             0.0224      0.008      2.897      0.004       0.007       0.038\n",
      "VISIBILITY_Snow                      -0.7792      0.096     -8.145      0.000      -0.967      -0.592\n",
      "MINUTE                                0.0004      0.000      1.839      0.066   -2.35e-05       0.001\n",
      "DISABILITY                            0.0408      0.022      1.874      0.061      -0.002       0.083\n",
      "VISIBILITY_Fog, Mist, Smoke, Dust    -0.5944      0.118     -5.050      0.000      -0.825      -0.364\n",
      "LIGHT_Other                           0.2941      0.172      1.706      0.088      -0.044       0.632\n",
      "LONGITUDE                             0.0563      0.022      2.529      0.011       0.013       0.100\n",
      "DISTRICT_Etobicoke York               0.0010      0.011      0.095      0.924      -0.020       0.023\n",
      "VISIBILITY_Rain                      -0.7434      0.093     -7.969      0.000      -0.926      -0.561\n",
      "VISIBILITY_Clear                     -0.3642      0.046     -7.850      0.000      -0.455      -0.273\n",
      "VISIBILITY_Freezing Rain             -0.3782      0.058     -6.536      0.000      -0.492      -0.265\n",
      "VISIBILITY_Clear                     -0.3642      0.046     -7.850      0.000      -0.455      -0.273\n",
      "VISIBILITY_Freezing Rain             -0.3782      0.058     -6.536      0.000      -0.492      -0.265\n",
      "VISIBILITY_Drifting Snow             -0.8192      0.142     -5.777      0.000      -1.097      -0.541\n",
      "VISIBILITY_Strong wind               -0.8656      0.178     -4.857      0.000      -1.215      -0.516\n",
      "=====================================================================================================\n"
     ]
    }
   ],
   "source": [
    "#Checking the p-values.\n",
    "logit_reg = sm.GLM(train_y2, train_X2)\n",
    "logit_result = logit_reg.fit()\n",
    "print(logit_result.summary())"
   ]
  },
  {
   "cell_type": "code",
   "execution_count": 132,
   "metadata": {},
   "outputs": [
    {
     "name": "stdout",
     "output_type": "stream",
     "text": [
      "\n",
      "Regression statistics\n",
      "\n",
      "               Mean Error (ME) : 0.0000\n",
      "Root Mean Squared Error (RMSE) : 0.3313\n",
      "     Mean Absolute Error (MAE) : 0.2218\n",
      "adjusted r2 :  0.07577691251059449\n"
     ]
    }
   ],
   "source": [
    "# R2 from linear regression\n",
    "reg = LinearRegression()\n",
    "reg.fit(train_X2, train_y2)\n",
    "\n",
    "\n",
    "\n",
    "# print performance measures\n",
    "regressionSummary(train_y2, reg.predict(train_X2))\n",
    "\n",
    "pred_y2 = reg.predict(train_X2)\n",
    "\n",
    "print('adjusted r2 : ', adjusted_r2_score(train_y2, pred_y2, reg))\n",
    "r2=adjusted_r2_score(train_y2, pred_y2, reg)"
   ]
  },
  {
   "cell_type": "code",
   "execution_count": 142,
   "metadata": {},
   "outputs": [
    {
     "data": {
      "text/plain": [
       "TRUCK                                19.607950\n",
       "PEDESTRIAN                           13.274493\n",
       "SPEEDING                             12.975937\n",
       "DISTRICT_Toronto and East York        8.164544\n",
       "DISTRICT_Scarborough                  5.593658\n",
       "TRSN_CITY_VEH                         5.084406\n",
       "VISIBILITY_Other                      4.197423\n",
       "LIGHT_Dark                            3.829338\n",
       "RDSFCOND_Other                        3.683731\n",
       "YEAR                                  2.990424\n",
       "HOUR                                  1.524459\n",
       "LIGHT_Other                           1.165578\n",
       "AG_DRIV                               0.985190\n",
       "LONGITUDE                             0.828050\n",
       "MINUTE                                0.727332\n",
       "RDSFCOND_Ice                          0.612490\n",
       "VISIBILITY_Drifting Snow              0.248054\n",
       "VISIBILITY_Freezing Rain              0.245648\n",
       "VISIBILITY_Freezing Rain              0.245648\n",
       "VISIBILITY_Snow                       0.199388\n",
       "MOTORCYCLE                            0.187003\n",
       "LIGHT_Dusk                            0.141740\n",
       "VISIBILITY_Strong wind                0.104372\n",
       "VISIBILITY_Rain                       0.098608\n",
       "VISIBILITY_Clear                      0.053707\n",
       "VISIBILITY_Clear                      0.053707\n",
       "DISABILITY                            0.035598\n",
       "VISIBILITY_Fog, Mist, Smoke, Dust     0.014643\n",
       "PASSENGER                             0.007262\n",
       "REDLIGHT                              0.000298\n",
       "DISTRICT_Etobicoke York               0.000002\n",
       "Name: FATAL, dtype: float64"
      ]
     },
     "execution_count": 142,
     "metadata": {},
     "output_type": "execute_result"
    }
   ],
   "source": [
    "#Getting contribution of all the variables to the model.\n",
    "contribution=r/r2\n",
    "contribution=contribution*100\n",
    "contribution.sort_values(ascending=False)\n",
    "contribution_df=contribution.sort_values(ascending=False)\n",
    "\n",
    "#exporting the file to export, have put below line in comments because already got the file in 1st run.\n",
    "#contribution_df.to_excel (r'contribution.xlsx', index = True, header=True)\n",
    "contribution_df=contribution_df.drop(['FATAL'])\n",
    "contribution_df"
   ]
  },
  {
   "cell_type": "code",
   "execution_count": null,
   "metadata": {},
   "outputs": [],
   "source": []
  }
 ],
 "metadata": {
  "kernelspec": {
   "display_name": "Python 3",
   "language": "python",
   "name": "python3"
  },
  "language_info": {
   "codemirror_mode": {
    "name": "ipython",
    "version": 3
   },
   "file_extension": ".py",
   "mimetype": "text/x-python",
   "name": "python",
   "nbconvert_exporter": "python",
   "pygments_lexer": "ipython3",
   "version": "3.7.6"
  }
 },
 "nbformat": 4,
 "nbformat_minor": 4
}
